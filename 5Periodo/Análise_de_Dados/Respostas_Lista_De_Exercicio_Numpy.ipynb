{
 "cells": [
  {
   "cell_type": "code",
   "execution_count": 1,
   "id": "14621934",
   "metadata": {},
   "outputs": [],
   "source": [
    "import numpy as np"
   ]
  },
  {
   "cell_type": "code",
   "execution_count": 2,
   "id": "3b59c8d4",
   "metadata": {},
   "outputs": [],
   "source": [
    "lista = range(10000000)"
   ]
  },
  {
   "cell_type": "code",
   "execution_count": 3,
   "id": "9d00700a",
   "metadata": {},
   "outputs": [],
   "source": [
    "vetor = np.arange(10000000)"
   ]
  },
  {
   "cell_type": "code",
   "execution_count": 4,
   "id": "fd386b68",
   "metadata": {},
   "outputs": [
    {
     "name": "stdout",
     "output_type": "stream",
     "text": [
      "CPU times: total: 7.08 s\n",
      "Wall time: 9 s\n"
     ]
    }
   ],
   "source": [
    "%time for _ in range(10): vetor2 = np.square(lista)"
   ]
  },
  {
   "cell_type": "code",
   "execution_count": 5,
   "id": "2f09121b",
   "metadata": {},
   "outputs": [
    {
     "name": "stdout",
     "output_type": "stream",
     "text": [
      "CPU times: total: 141 ms\n",
      "Wall time: 199 ms\n"
     ]
    }
   ],
   "source": [
    "%time for _ in range(10): vetor= vetor**2"
   ]
  },
  {
   "cell_type": "code",
   "execution_count": 6,
   "id": "268997b5",
   "metadata": {},
   "outputs": [
    {
     "data": {
      "text/plain": [
       "array([[ 7, 78, 10],\n",
       "       [71, 91, 10],\n",
       "       [ 9, 39, 10],\n",
       "       [69, 87, 16],\n",
       "       [13,  2, 52]])"
      ]
     },
     "execution_count": 6,
     "metadata": {},
     "output_type": "execute_result"
    }
   ],
   "source": [
    "matriz1 = np.random.randint(1,100, size=(5,3))\n",
    "matriz1"
   ]
  },
  {
   "cell_type": "code",
   "execution_count": 7,
   "id": "eb7ccea7",
   "metadata": {},
   "outputs": [
    {
     "data": {
      "text/plain": [
       "array([[2.64575131, 8.83176087, 3.16227766],\n",
       "       [8.42614977, 9.53939201, 3.16227766],\n",
       "       [3.        , 6.244998  , 3.16227766],\n",
       "       [8.30662386, 9.32737905, 4.        ],\n",
       "       [3.60555128, 1.41421356, 7.21110255]])"
      ]
     },
     "execution_count": 7,
     "metadata": {},
     "output_type": "execute_result"
    }
   ],
   "source": [
    "np.sqrt(matriz1)"
   ]
  },
  {
   "cell_type": "code",
   "execution_count": 8,
   "id": "12f2ecaa",
   "metadata": {},
   "outputs": [],
   "source": [
    "matriz2 = np.random.rand(8, 5)\n",
    "matriz3 = np.array([[7., 8, 9, 10.98], [65, 42, 3, 18]])\n",
    "matriz4 = np.array([[1, \"2\", \"4.5\", 7], [4, \"18\", 14, \"3\"]], dtype=np.string_)"
   ]
  },
  {
   "cell_type": "code",
   "execution_count": 9,
   "id": "97bffa01",
   "metadata": {},
   "outputs": [
    {
     "data": {
      "text/plain": [
       "(8, 5)"
      ]
     },
     "execution_count": 9,
     "metadata": {},
     "output_type": "execute_result"
    }
   ],
   "source": [
    "matriz2.shape"
   ]
  },
  {
   "cell_type": "code",
   "execution_count": 10,
   "id": "e5da81b6",
   "metadata": {},
   "outputs": [
    {
     "data": {
      "text/plain": [
       "(2, 4)"
      ]
     },
     "execution_count": 10,
     "metadata": {},
     "output_type": "execute_result"
    }
   ],
   "source": [
    "matriz3.shape"
   ]
  },
  {
   "cell_type": "code",
   "execution_count": 11,
   "id": "a6866b3c",
   "metadata": {},
   "outputs": [
    {
     "data": {
      "text/plain": [
       "(2, 4)"
      ]
     },
     "execution_count": 11,
     "metadata": {},
     "output_type": "execute_result"
    }
   ],
   "source": [
    "matriz4.shape"
   ]
  },
  {
   "cell_type": "code",
   "execution_count": 12,
   "id": "15ee8bd8",
   "metadata": {},
   "outputs": [
    {
     "data": {
      "text/plain": [
       "dtype('float64')"
      ]
     },
     "execution_count": 12,
     "metadata": {},
     "output_type": "execute_result"
    }
   ],
   "source": [
    "matriz2.dtype"
   ]
  },
  {
   "cell_type": "code",
   "execution_count": 13,
   "id": "c104670b",
   "metadata": {},
   "outputs": [
    {
     "data": {
      "text/plain": [
       "dtype('float64')"
      ]
     },
     "execution_count": 13,
     "metadata": {},
     "output_type": "execute_result"
    }
   ],
   "source": [
    "matriz3.dtype"
   ]
  },
  {
   "cell_type": "code",
   "execution_count": 14,
   "id": "52316af6",
   "metadata": {},
   "outputs": [
    {
     "data": {
      "text/plain": [
       "dtype('S3')"
      ]
     },
     "execution_count": 14,
     "metadata": {},
     "output_type": "execute_result"
    }
   ],
   "source": [
    "matriz4.dtype"
   ]
  },
  {
   "cell_type": "code",
   "execution_count": 15,
   "id": "68a0bfba",
   "metadata": {},
   "outputs": [
    {
     "data": {
      "text/plain": [
       "2"
      ]
     },
     "execution_count": 15,
     "metadata": {},
     "output_type": "execute_result"
    }
   ],
   "source": [
    "matriz2.ndim"
   ]
  },
  {
   "cell_type": "code",
   "execution_count": 16,
   "id": "29025454",
   "metadata": {},
   "outputs": [
    {
     "data": {
      "text/plain": [
       "2"
      ]
     },
     "execution_count": 16,
     "metadata": {},
     "output_type": "execute_result"
    }
   ],
   "source": [
    "matriz3.ndim"
   ]
  },
  {
   "cell_type": "code",
   "execution_count": 17,
   "id": "c44ab891",
   "metadata": {},
   "outputs": [
    {
     "data": {
      "text/plain": [
       "2"
      ]
     },
     "execution_count": 17,
     "metadata": {},
     "output_type": "execute_result"
    }
   ],
   "source": [
    "matriz4.ndim"
   ]
  },
  {
   "cell_type": "code",
   "execution_count": 18,
   "id": "5d0aadc4",
   "metadata": {},
   "outputs": [
    {
     "data": {
      "text/plain": [
       "array([[-0.2051853 , -0.18568513,  0.0745496 , -0.7395776 ],\n",
       "       [ 1.5122326 ,  0.63863509,  0.62988427,  0.17978095],\n",
       "       [ 1.61767899,  0.23186217, -1.22030719,  0.71865285]])"
      ]
     },
     "execution_count": 18,
     "metadata": {},
     "output_type": "execute_result"
    }
   ],
   "source": [
    "matriz5 = np.random.randn(3,4)\n",
    "matriz5"
   ]
  },
  {
   "cell_type": "code",
   "execution_count": 19,
   "id": "36066e75",
   "metadata": {},
   "outputs": [
    {
     "data": {
      "text/plain": [
       "array([[-0., -0.,  0., -1.],\n",
       "       [ 2.,  1.,  1.,  0.],\n",
       "       [ 2.,  0., -1.,  1.]])"
      ]
     },
     "execution_count": 19,
     "metadata": {},
     "output_type": "execute_result"
    }
   ],
   "source": [
    "np.rint(matriz5)"
   ]
  },
  {
   "cell_type": "code",
   "execution_count": 20,
   "id": "be03497d",
   "metadata": {},
   "outputs": [
    {
     "data": {
      "text/plain": [
       "'[[-0.2051853  -0.18568513  0.0745496  -0.7395776 ]\\n [ 1.5122326   0.63863509  0.62988427  0.17978095]\\n [ 1.61767899  0.23186217 -1.22030719  0.71865285]]'"
      ]
     },
     "execution_count": 20,
     "metadata": {},
     "output_type": "execute_result"
    }
   ],
   "source": [
    "np.str_(matriz5)"
   ]
  },
  {
   "cell_type": "code",
   "execution_count": 21,
   "id": "169c6fc1",
   "metadata": {},
   "outputs": [
    {
     "data": {
      "text/plain": [
       "array([42, 65, 23, 89, 70, 22, 21, 94,  8, 76, 12,  6, 68,  4, 33, 30, 73,\n",
       "       87, 52, 17, 58, 38, 39, 82, 15, 94, 20, 88, 77, 70, 41,  2,  0, 55,\n",
       "       37, 90, 79, 97, 90, 21, 38, 44, 83,  1, 70, 32, 23, 22, 80, 38,  0,\n",
       "       64, 98, 39, 50, 65,  7, 52, 85, 73, 10, 46, 52, 29, 59, 14, 80, 16,\n",
       "       44, 57, 44, 94, 91, 54,  3, 39, 30, 63, 26, 79, 49, 73, 77, 38, 28,\n",
       "       72, 70, 80, 46, 22, 63, 42, 68, 95, 63, 38, 23, 10, 98, 98])"
      ]
     },
     "execution_count": 21,
     "metadata": {},
     "output_type": "execute_result"
    }
   ],
   "source": [
    "vetor3 = np.random.randint(100, size=100)\n",
    "vetor3"
   ]
  },
  {
   "cell_type": "code",
   "execution_count": 22,
   "id": "ec0722c1",
   "metadata": {},
   "outputs": [
    {
     "data": {
      "text/plain": [
       "0"
      ]
     },
     "execution_count": 22,
     "metadata": {},
     "output_type": "execute_result"
    }
   ],
   "source": [
    "vetor3[32]"
   ]
  },
  {
   "cell_type": "code",
   "execution_count": 23,
   "id": "9b8f3bdd",
   "metadata": {},
   "outputs": [
    {
     "data": {
      "text/plain": [
       "array([ 42,  65,  23,  89,  70,  22,  21,  94,   8,  76,  12,   6,  68,\n",
       "         4,  33,  30,  73,  87, 128, 128, 128, 128, 128, 128, 128, 128,\n",
       "       128, 128, 128, 128, 128, 128, 128,  55,  37,  90,  79,  97,  90,\n",
       "        21,  38,  44,  83,   1,  70,  32,  23,  22,  80,  38,   0,  64,\n",
       "        98,  39,  50,  65,   7,  52,  85,  73,  10,  46,  52,  29,  59,\n",
       "        14,  80,  16,  44,  57,  44,  94,  91,  54,   3,  39,  30,  63,\n",
       "        26,  79,  49,  73,  77,  38,  28,  72,  70,  80,  46,  22,  63,\n",
       "        42,  68,  95,  63,  38,  23,  10,  98,  98])"
      ]
     },
     "execution_count": 23,
     "metadata": {},
     "output_type": "execute_result"
    }
   ],
   "source": [
    "vetor3[18:33] = 128\n",
    "vetor3"
   ]
  },
  {
   "cell_type": "code",
   "execution_count": 24,
   "id": "a46597d5",
   "metadata": {},
   "outputs": [],
   "source": [
    "vetor4 = np.copy(vetor3)"
   ]
  },
  {
   "cell_type": "code",
   "execution_count": 25,
   "id": "1568e21f",
   "metadata": {},
   "outputs": [
    {
     "data": {
      "text/plain": [
       "array([ 42,  65,  23,  89,  70,  22,  21,  94,   8,  76,  12,   6,  68,\n",
       "         4,  33,  30,  73,  87, 256, 256, 256, 256, 256, 256, 256, 256,\n",
       "       256, 256, 256, 256, 256, 256, 256,  55,  37,  90,  79,  97,  90,\n",
       "        21,  38,  44,  83,   1,  70,  32,  23,  22,  80,  38,   0,  64,\n",
       "        98,  39,  50,  65,   7,  52,  85,  73,  10,  46,  52,  29,  59,\n",
       "        14,  80,  16,  44,  57,  44,  94,  91,  54,   3,  39,  30,  63,\n",
       "        26,  79,  49,  73,  77,  38,  28,  72,  70,  80,  46,  22,  63,\n",
       "        42,  68,  95,  63,  38,  23,  10,  98,  98])"
      ]
     },
     "execution_count": 25,
     "metadata": {},
     "output_type": "execute_result"
    }
   ],
   "source": [
    "vetor4[18:33] = 256\n",
    "vetor4"
   ]
  },
  {
   "cell_type": "code",
   "execution_count": 26,
   "id": "be925bcf",
   "metadata": {},
   "outputs": [
    {
     "data": {
      "text/plain": [
       "array([[ 1,  2,  3,  4],\n",
       "       [ 5,  6,  7,  8],\n",
       "       [ 9, 10, 11, 12],\n",
       "       [13, 14, 15, 16]])"
      ]
     },
     "execution_count": 26,
     "metadata": {},
     "output_type": "execute_result"
    }
   ],
   "source": [
    "arr2d = np.array([[1, 2, 3, 4], [5, 6, 7, 8], [9, 10, 11, 12], [13, 14, 15, 16]])\n",
    "arr2d"
   ]
  },
  {
   "cell_type": "code",
   "execution_count": 27,
   "id": "6c62b0e4",
   "metadata": {},
   "outputs": [
    {
     "data": {
      "text/plain": [
       "array([[5, 6, 7]])"
      ]
     },
     "execution_count": 27,
     "metadata": {},
     "output_type": "execute_result"
    }
   ],
   "source": [
    "arr2d[1:2,:3]"
   ]
  },
  {
   "cell_type": "code",
   "execution_count": 28,
   "id": "29a8af78",
   "metadata": {},
   "outputs": [
    {
     "data": {
      "text/plain": [
       "array([ 7, 11, 15])"
      ]
     },
     "execution_count": 28,
     "metadata": {},
     "output_type": "execute_result"
    }
   ],
   "source": [
    "arr2d[1:4,2]"
   ]
  },
  {
   "cell_type": "code",
   "execution_count": 29,
   "id": "594ff6a5",
   "metadata": {},
   "outputs": [],
   "source": [
    "nomes = np.array([\"Antônio\", \"Carlos\", \"Carlos\", \"Antônio\", \"José\", \"Alfredo\", \"Alfredo\", \"Antônio\"])"
   ]
  },
  {
   "cell_type": "code",
   "execution_count": 30,
   "id": "bc1eaa35",
   "metadata": {},
   "outputs": [],
   "source": [
    "dividas = np.array([1000., 500., 0, 1640, 18399.99, 42640.18, 70., 84.90])"
   ]
  },
  {
   "cell_type": "code",
   "execution_count": 31,
   "id": "ca89b5ab",
   "metadata": {},
   "outputs": [
    {
     "name": "stdout",
     "output_type": "stream",
     "text": [
      "Antônio 1000.0\n",
      "Antônio 1640.0\n",
      "Antônio 84.9\n"
     ]
    }
   ],
   "source": [
    "indices = np.where(nomes == \"Antônio\")\n",
    "for i in indices[0]:\n",
    "    print(\"Antônio\", dividas[i])"
   ]
  },
  {
   "cell_type": "code",
   "execution_count": 32,
   "id": "70ef1059",
   "metadata": {},
   "outputs": [
    {
     "name": "stdout",
     "output_type": "stream",
     "text": [
      "José 18399.99\n"
     ]
    }
   ],
   "source": [
    "indices = np.where(nomes == \"José\")\n",
    "for i in indices[0]:\n",
    "    print(\"José\", dividas[i])"
   ]
  },
  {
   "cell_type": "code",
   "execution_count": 33,
   "id": "ae69a0d4",
   "metadata": {},
   "outputs": [
    {
     "name": "stdout",
     "output_type": "stream",
     "text": [
      "Carlos 500.0\n",
      "Carlos 0.0\n",
      "Alfredo 42640.18\n",
      "Alfredo 70.0\n"
     ]
    }
   ],
   "source": [
    "indices = np.where((nomes != \"Antônio\") & (nomes != \"José\"))\n",
    "for i in indices[0]:\n",
    "    print(nomes[i], dividas[i])"
   ]
  },
  {
   "cell_type": "code",
   "execution_count": 34,
   "id": "db8fabca",
   "metadata": {},
   "outputs": [
    {
     "name": "stdout",
     "output_type": "stream",
     "text": [
      "Carlos\n"
     ]
    }
   ],
   "source": [
    "indices = np.where(dividas == 0)\n",
    "for i in indices[0]:\n",
    "    print(nomes[i])"
   ]
  },
  {
   "cell_type": "code",
   "execution_count": 35,
   "id": "217e01ab",
   "metadata": {},
   "outputs": [
    {
     "name": "stdout",
     "output_type": "stream",
     "text": [
      "José\n",
      "Alfredo\n"
     ]
    }
   ],
   "source": [
    "indices = np.where(dividas > 10000)\n",
    "for i in indices[0]:\n",
    "    print(nomes[i])"
   ]
  },
  {
   "cell_type": "code",
   "execution_count": 36,
   "id": "7245b475",
   "metadata": {},
   "outputs": [
    {
     "name": "stdout",
     "output_type": "stream",
     "text": [
      "Alfredo\n",
      "Antônio\n"
     ]
    }
   ],
   "source": [
    "indices = np.where((dividas < 100) & (dividas > 0))\n",
    "for i in indices[0]:\n",
    "    print(nomes[i])"
   ]
  },
  {
   "cell_type": "code",
   "execution_count": 37,
   "id": "190bfc6a",
   "metadata": {},
   "outputs": [
    {
     "data": {
      "text/plain": [
       "array(['Alfredo', 'Alfredo', 'Antônio', 'Antônio', 'Antônio', 'Carlos',\n",
       "       'Carlos', 'José'], dtype='<U7')"
      ]
     },
     "execution_count": 37,
     "metadata": {},
     "output_type": "execute_result"
    }
   ],
   "source": [
    "np.sort(nomes)"
   ]
  },
  {
   "cell_type": "code",
   "execution_count": 38,
   "id": "c06759ab",
   "metadata": {},
   "outputs": [
    {
     "data": {
      "text/plain": [
       "array([42640.18, 18399.99,  1640.  ,  1000.  ,   500.  ,    84.9 ,\n",
       "          70.  ,     0.  ])"
      ]
     },
     "execution_count": 38,
     "metadata": {},
     "output_type": "execute_result"
    }
   ],
   "source": [
    "-np.sort(-dividas)"
   ]
  },
  {
   "cell_type": "code",
   "execution_count": 39,
   "id": "a0247129",
   "metadata": {},
   "outputs": [
    {
     "data": {
      "text/plain": [
       "array(['Alfredo', 'Antônio', 'Carlos', 'José'], dtype='<U7')"
      ]
     },
     "execution_count": 39,
     "metadata": {},
     "output_type": "execute_result"
    }
   ],
   "source": [
    "np.unique(nomes)"
   ]
  },
  {
   "cell_type": "code",
   "execution_count": 40,
   "id": "ac3ca671",
   "metadata": {},
   "outputs": [
    {
     "data": {
      "text/plain": [
       "array([    0.  ,    70.  ,    84.9 ,   500.  ,  1000.  ,  1640.  ,\n",
       "       18399.99, 42640.18])"
      ]
     },
     "execution_count": 40,
     "metadata": {},
     "output_type": "execute_result"
    }
   ],
   "source": [
    "np.unique(dividas)"
   ]
  }
 ],
 "metadata": {
  "kernelspec": {
   "display_name": "Python 3",
   "language": "python",
   "name": "python3"
  },
  "language_info": {
   "codemirror_mode": {
    "name": "ipython",
    "version": 3
   },
   "file_extension": ".py",
   "mimetype": "text/x-python",
   "name": "python",
   "nbconvert_exporter": "python",
   "pygments_lexer": "ipython3",
   "version": "3.9.6"
  },
  "vscode": {
   "interpreter": {
    "hash": "c9df6bb62f4475c7195813eb4ce8c46fa8ccdd8bb0b7a1258ff830557c0a01ba"
   }
  }
 },
 "nbformat": 4,
 "nbformat_minor": 5
}
