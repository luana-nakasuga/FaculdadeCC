{
 "cells": [
  {
   "cell_type": "code",
   "execution_count": 1,
   "id": "14621934",
   "metadata": {},
   "outputs": [],
   "source": [
    "import numpy as np"
   ]
  },
  {
   "cell_type": "code",
   "execution_count": 2,
   "id": "3b59c8d4",
   "metadata": {},
   "outputs": [],
   "source": [
    "lista = range(10000000)"
   ]
  },
  {
   "cell_type": "code",
   "execution_count": 3,
   "id": "9d00700a",
   "metadata": {},
   "outputs": [],
   "source": [
    "vetor = np.arange(10000000)"
   ]
  },
  {
   "cell_type": "code",
   "execution_count": 4,
   "id": "fd386b68",
   "metadata": {},
   "outputs": [
    {
     "name": "stdout",
     "output_type": "stream",
     "text": [
      "CPU times: total: 7.08 s\n",
      "Wall time: 11.3 s\n"
     ]
    }
   ],
   "source": [
    "%time for _ in range(10): vetor2 = np.square(lista)"
   ]
  },
  {
   "cell_type": "code",
   "execution_count": 5,
   "id": "2f09121b",
   "metadata": {},
   "outputs": [
    {
     "name": "stdout",
     "output_type": "stream",
     "text": [
      "CPU times: total: 141 ms\n",
      "Wall time: 216 ms\n"
     ]
    }
   ],
   "source": [
    "%time for _ in range(10): vetor= vetor**2"
   ]
  },
  {
   "cell_type": "code",
   "execution_count": 6,
   "id": "268997b5",
   "metadata": {},
   "outputs": [
    {
     "data": {
      "text/plain": [
       "array([[68, 31, 23],\n",
       "       [98, 69, 17],\n",
       "       [67, 44, 77],\n",
       "       [33, 35, 72],\n",
       "       [53, 31, 96]])"
      ]
     },
     "execution_count": 6,
     "metadata": {},
     "output_type": "execute_result"
    }
   ],
   "source": [
    "matriz1 = np.random.randint(1,100, size=(5,3))\n",
    "matriz1"
   ]
  },
  {
   "cell_type": "code",
   "execution_count": 7,
   "id": "eb7ccea7",
   "metadata": {},
   "outputs": [
    {
     "data": {
      "text/plain": [
       "array([[8.24621125, 5.56776436, 4.79583152],\n",
       "       [9.89949494, 8.30662386, 4.12310563],\n",
       "       [8.18535277, 6.63324958, 8.77496439],\n",
       "       [5.74456265, 5.91607978, 8.48528137],\n",
       "       [7.28010989, 5.56776436, 9.79795897]])"
      ]
     },
     "execution_count": 7,
     "metadata": {},
     "output_type": "execute_result"
    }
   ],
   "source": [
    "np.sqrt(matriz1)"
   ]
  },
  {
   "cell_type": "code",
   "execution_count": 8,
   "id": "12f2ecaa",
   "metadata": {},
   "outputs": [],
   "source": [
    "matriz2 = np.random.rand(8, 5)\n",
    "matriz3 = np.array([[7., 8, 9, 10.98], [65, 42, 3, 18]])\n",
    "matriz4 = np.array([[1, \"2\", \"4.5\", 7], [4, \"18\", 14, \"3\"]], dtype=np.string_)"
   ]
  },
  {
   "cell_type": "code",
   "execution_count": 9,
   "id": "97bffa01",
   "metadata": {},
   "outputs": [
    {
     "data": {
      "text/plain": [
       "(8, 5)"
      ]
     },
     "execution_count": 9,
     "metadata": {},
     "output_type": "execute_result"
    }
   ],
   "source": [
    "matriz2.shape"
   ]
  },
  {
   "cell_type": "code",
   "execution_count": 10,
   "id": "e5da81b6",
   "metadata": {},
   "outputs": [
    {
     "data": {
      "text/plain": [
       "(2, 4)"
      ]
     },
     "execution_count": 10,
     "metadata": {},
     "output_type": "execute_result"
    }
   ],
   "source": [
    "matriz3.shape"
   ]
  },
  {
   "cell_type": "code",
   "execution_count": 11,
   "id": "a6866b3c",
   "metadata": {},
   "outputs": [
    {
     "data": {
      "text/plain": [
       "(2, 4)"
      ]
     },
     "execution_count": 11,
     "metadata": {},
     "output_type": "execute_result"
    }
   ],
   "source": [
    "matriz4.shape"
   ]
  },
  {
   "cell_type": "code",
   "execution_count": 12,
   "id": "15ee8bd8",
   "metadata": {},
   "outputs": [
    {
     "data": {
      "text/plain": [
       "dtype('float64')"
      ]
     },
     "execution_count": 12,
     "metadata": {},
     "output_type": "execute_result"
    }
   ],
   "source": [
    "matriz2.dtype"
   ]
  },
  {
   "cell_type": "code",
   "execution_count": 13,
   "id": "c104670b",
   "metadata": {},
   "outputs": [
    {
     "data": {
      "text/plain": [
       "dtype('float64')"
      ]
     },
     "execution_count": 13,
     "metadata": {},
     "output_type": "execute_result"
    }
   ],
   "source": [
    "matriz3.dtype"
   ]
  },
  {
   "cell_type": "code",
   "execution_count": 14,
   "id": "52316af6",
   "metadata": {},
   "outputs": [
    {
     "data": {
      "text/plain": [
       "dtype('S3')"
      ]
     },
     "execution_count": 14,
     "metadata": {},
     "output_type": "execute_result"
    }
   ],
   "source": [
    "matriz4.dtype"
   ]
  },
  {
   "cell_type": "code",
   "execution_count": 15,
   "id": "68a0bfba",
   "metadata": {},
   "outputs": [
    {
     "data": {
      "text/plain": [
       "2"
      ]
     },
     "execution_count": 15,
     "metadata": {},
     "output_type": "execute_result"
    }
   ],
   "source": [
    "matriz2.ndim"
   ]
  },
  {
   "cell_type": "code",
   "execution_count": 16,
   "id": "29025454",
   "metadata": {},
   "outputs": [
    {
     "data": {
      "text/plain": [
       "2"
      ]
     },
     "execution_count": 16,
     "metadata": {},
     "output_type": "execute_result"
    }
   ],
   "source": [
    "matriz3.ndim"
   ]
  },
  {
   "cell_type": "code",
   "execution_count": 17,
   "id": "c44ab891",
   "metadata": {},
   "outputs": [
    {
     "data": {
      "text/plain": [
       "2"
      ]
     },
     "execution_count": 17,
     "metadata": {},
     "output_type": "execute_result"
    }
   ],
   "source": [
    "matriz4.ndim"
   ]
  },
  {
   "cell_type": "code",
   "execution_count": 18,
   "id": "5d0aadc4",
   "metadata": {},
   "outputs": [
    {
     "data": {
      "text/plain": [
       "array([[ 1.18383698,  0.00179478,  1.00504105,  0.52158023],\n",
       "       [ 0.33311993, -0.5145886 ,  0.27273027, -0.65036913],\n",
       "       [ 0.58075947,  0.28284791, -1.78064476,  0.171817  ]])"
      ]
     },
     "execution_count": 18,
     "metadata": {},
     "output_type": "execute_result"
    }
   ],
   "source": [
    "matriz5 = np.random.randn(3,4)\n",
    "matriz5"
   ]
  },
  {
   "cell_type": "code",
   "execution_count": 19,
   "id": "36066e75",
   "metadata": {},
   "outputs": [
    {
     "data": {
      "text/plain": [
       "array([[ 1.,  0.,  1.,  1.],\n",
       "       [ 0., -1.,  0., -1.],\n",
       "       [ 1.,  0., -2.,  0.]])"
      ]
     },
     "execution_count": 19,
     "metadata": {},
     "output_type": "execute_result"
    }
   ],
   "source": [
    "np.rint(matriz5)"
   ]
  },
  {
   "cell_type": "code",
   "execution_count": 20,
   "id": "be03497d",
   "metadata": {},
   "outputs": [
    {
     "data": {
      "text/plain": [
       "'[[ 1.18383698  0.00179478  1.00504105  0.52158023]\\n [ 0.33311993 -0.5145886   0.27273027 -0.65036913]\\n [ 0.58075947  0.28284791 -1.78064476  0.171817  ]]'"
      ]
     },
     "execution_count": 20,
     "metadata": {},
     "output_type": "execute_result"
    }
   ],
   "source": [
    "np.str_(matriz5)"
   ]
  },
  {
   "cell_type": "code",
   "execution_count": 21,
   "id": "169c6fc1",
   "metadata": {},
   "outputs": [
    {
     "data": {
      "text/plain": [
       "array([12, 87, 73, 26,  7, 52,  7, 16, 23, 63, 84,  1, 11, 59, 23, 13, 69,\n",
       "       72, 49, 93, 70, 33, 28,  5, 35, 42, 20, 17, 22, 80, 83, 47, 30, 32,\n",
       "       76, 34, 12, 22, 30, 74, 91,  1, 82,  7, 21, 82, 66, 76,  4, 85, 78,\n",
       "       19, 14, 88, 67, 24, 15, 11, 51, 21, 82,  7, 30, 62, 13, 69, 64, 22,\n",
       "        9, 91, 52, 79, 81, 65, 87, 98, 53, 88,  7, 19, 36, 67, 80, 56, 91,\n",
       "       70, 28, 71, 44, 60, 11, 24, 49, 17, 13, 84, 88, 57, 95, 53])"
      ]
     },
     "execution_count": 21,
     "metadata": {},
     "output_type": "execute_result"
    }
   ],
   "source": [
    "vetor3 = np.random.randint(100, size=100)\n",
    "vetor3"
   ]
  },
  {
   "cell_type": "code",
   "execution_count": 22,
   "id": "ec0722c1",
   "metadata": {},
   "outputs": [
    {
     "data": {
      "text/plain": [
       "30"
      ]
     },
     "execution_count": 22,
     "metadata": {},
     "output_type": "execute_result"
    }
   ],
   "source": [
    "vetor3[32]"
   ]
  },
  {
   "cell_type": "code",
   "execution_count": 23,
   "id": "9b8f3bdd",
   "metadata": {},
   "outputs": [
    {
     "data": {
      "text/plain": [
       "array([ 12,  87,  73,  26,   7,  52,   7,  16,  23,  63,  84,   1,  11,\n",
       "        59,  23,  13,  69,  72, 128, 128, 128, 128, 128, 128, 128, 128,\n",
       "       128, 128, 128, 128, 128, 128, 128,  32,  76,  34,  12,  22,  30,\n",
       "        74,  91,   1,  82,   7,  21,  82,  66,  76,   4,  85,  78,  19,\n",
       "        14,  88,  67,  24,  15,  11,  51,  21,  82,   7,  30,  62,  13,\n",
       "        69,  64,  22,   9,  91,  52,  79,  81,  65,  87,  98,  53,  88,\n",
       "         7,  19,  36,  67,  80,  56,  91,  70,  28,  71,  44,  60,  11,\n",
       "        24,  49,  17,  13,  84,  88,  57,  95,  53])"
      ]
     },
     "execution_count": 23,
     "metadata": {},
     "output_type": "execute_result"
    }
   ],
   "source": [
    "vetor3[18:33] = 128\n",
    "vetor3"
   ]
  },
  {
   "cell_type": "code",
   "execution_count": 24,
   "id": "a46597d5",
   "metadata": {},
   "outputs": [],
   "source": [
    "vetor4 = np.copy(vetor3)"
   ]
  },
  {
   "cell_type": "code",
   "execution_count": 25,
   "id": "1568e21f",
   "metadata": {},
   "outputs": [
    {
     "data": {
      "text/plain": [
       "array([ 12,  87,  73,  26,   7,  52,   7,  16,  23,  63,  84,   1,  11,\n",
       "        59,  23,  13,  69,  72, 256, 256, 256, 256, 256, 256, 256, 256,\n",
       "       256, 256, 256, 256, 256, 256, 256,  32,  76,  34,  12,  22,  30,\n",
       "        74,  91,   1,  82,   7,  21,  82,  66,  76,   4,  85,  78,  19,\n",
       "        14,  88,  67,  24,  15,  11,  51,  21,  82,   7,  30,  62,  13,\n",
       "        69,  64,  22,   9,  91,  52,  79,  81,  65,  87,  98,  53,  88,\n",
       "         7,  19,  36,  67,  80,  56,  91,  70,  28,  71,  44,  60,  11,\n",
       "        24,  49,  17,  13,  84,  88,  57,  95,  53])"
      ]
     },
     "execution_count": 25,
     "metadata": {},
     "output_type": "execute_result"
    }
   ],
   "source": [
    "vetor4[18:33] = 256\n",
    "vetor4"
   ]
  },
  {
   "cell_type": "code",
   "execution_count": 26,
   "id": "be925bcf",
   "metadata": {},
   "outputs": [
    {
     "data": {
      "text/plain": [
       "array([[ 1,  2,  3,  4],\n",
       "       [ 5,  6,  7,  8],\n",
       "       [ 9, 10, 11, 12],\n",
       "       [13, 14, 15, 16]])"
      ]
     },
     "execution_count": 26,
     "metadata": {},
     "output_type": "execute_result"
    }
   ],
   "source": [
    "arr2d = np.array([[1, 2, 3, 4], [5, 6, 7, 8], [9, 10, 11, 12], [13, 14, 15, 16]])\n",
    "arr2d"
   ]
  },
  {
   "cell_type": "code",
   "execution_count": 27,
   "id": "6c62b0e4",
   "metadata": {},
   "outputs": [
    {
     "data": {
      "text/plain": [
       "array([[5, 6, 7]])"
      ]
     },
     "execution_count": 27,
     "metadata": {},
     "output_type": "execute_result"
    }
   ],
   "source": [
    "arr2d[1:2,:3]"
   ]
  },
  {
   "cell_type": "code",
   "execution_count": 28,
   "id": "29a8af78",
   "metadata": {},
   "outputs": [
    {
     "data": {
      "text/plain": [
       "array([ 7, 11, 15])"
      ]
     },
     "execution_count": 28,
     "metadata": {},
     "output_type": "execute_result"
    }
   ],
   "source": [
    "arr2d[1:4,2]"
   ]
  },
  {
   "cell_type": "code",
   "execution_count": 29,
   "id": "594ff6a5",
   "metadata": {},
   "outputs": [],
   "source": [
    "nomes = np.array([\"Antônio\", \"Carlos\", \"Carlos\", \"Antônio\", \"José\", \"Alfredo\", \"Alfredo\", \"Antônio\"])"
   ]
  },
  {
   "cell_type": "code",
   "execution_count": 30,
   "id": "bc1eaa35",
   "metadata": {},
   "outputs": [],
   "source": [
    "dividas = np.array([1000., 500., 0, 1640, 18399.99, 42640.18, 70., 84.90])"
   ]
  },
  {
   "cell_type": "code",
   "execution_count": 31,
   "id": "ca89b5ab",
   "metadata": {},
   "outputs": [
    {
     "name": "stdout",
     "output_type": "stream",
     "text": [
      "Antônio 1000.0\n",
      "Antônio 1640.0\n",
      "Antônio 84.9\n"
     ]
    }
   ],
   "source": [
    "indices = np.where(nomes == \"Antônio\")\n",
    "for i in indices[0]:\n",
    "    print(\"Antônio\", dividas[i])"
   ]
  },
  {
   "cell_type": "code",
   "execution_count": 32,
   "id": "70ef1059",
   "metadata": {},
   "outputs": [
    {
     "name": "stdout",
     "output_type": "stream",
     "text": [
      "José 18399.99\n"
     ]
    }
   ],
   "source": [
    "indices = np.where(nomes == \"José\")\n",
    "for i in indices[0]:\n",
    "    print(\"José\", dividas[i])"
   ]
  },
  {
   "cell_type": "code",
   "execution_count": 33,
   "id": "ae69a0d4",
   "metadata": {},
   "outputs": [
    {
     "name": "stdout",
     "output_type": "stream",
     "text": [
      "Carlos 500.0\n",
      "Carlos 0.0\n",
      "Alfredo 42640.18\n",
      "Alfredo 70.0\n"
     ]
    }
   ],
   "source": [
    "indices = np.where((nomes != \"Antônio\") & (nomes != \"José\"))\n",
    "for i in indices[0]:\n",
    "    print(nomes[i], dividas[i])"
   ]
  },
  {
   "cell_type": "code",
   "execution_count": 34,
   "id": "db8fabca",
   "metadata": {},
   "outputs": [
    {
     "name": "stdout",
     "output_type": "stream",
     "text": [
      "Carlos\n"
     ]
    }
   ],
   "source": [
    "indices = np.where(dividas == 0)\n",
    "for i in indices[0]:\n",
    "    print(nomes[i])"
   ]
  },
  {
   "cell_type": "code",
   "execution_count": 35,
   "id": "217e01ab",
   "metadata": {},
   "outputs": [
    {
     "name": "stdout",
     "output_type": "stream",
     "text": [
      "José\n",
      "Alfredo\n"
     ]
    }
   ],
   "source": [
    "indices = np.where(dividas > 10000)\n",
    "for i in indices[0]:\n",
    "    print(nomes[i])"
   ]
  },
  {
   "cell_type": "code",
   "execution_count": 36,
   "id": "7245b475",
   "metadata": {},
   "outputs": [
    {
     "name": "stdout",
     "output_type": "stream",
     "text": [
      "Alfredo\n",
      "Antônio\n"
     ]
    }
   ],
   "source": [
    "indices = np.where((dividas < 100) & (dividas > 0))\n",
    "for i in indices[0]:\n",
    "    print(nomes[i])"
   ]
  },
  {
   "cell_type": "code",
   "execution_count": 37,
   "id": "190bfc6a",
   "metadata": {},
   "outputs": [
    {
     "data": {
      "text/plain": [
       "array(['Alfredo', 'Alfredo', 'Antônio', 'Antônio', 'Antônio', 'Carlos',\n",
       "       'Carlos', 'José'], dtype='<U7')"
      ]
     },
     "execution_count": 37,
     "metadata": {},
     "output_type": "execute_result"
    }
   ],
   "source": [
    "np.sort(nomes)"
   ]
  },
  {
   "cell_type": "code",
   "execution_count": 38,
   "id": "c06759ab",
   "metadata": {},
   "outputs": [
    {
     "data": {
      "text/plain": [
       "array([42640.18, 18399.99,  1640.  ,  1000.  ,   500.  ,    84.9 ,\n",
       "          70.  ,     0.  ])"
      ]
     },
     "execution_count": 38,
     "metadata": {},
     "output_type": "execute_result"
    }
   ],
   "source": [
    "-np.sort(-dividas)"
   ]
  },
  {
   "cell_type": "code",
   "execution_count": 39,
   "id": "a0247129",
   "metadata": {},
   "outputs": [
    {
     "data": {
      "text/plain": [
       "array(['Alfredo', 'Antônio', 'Carlos', 'José'], dtype='<U7')"
      ]
     },
     "execution_count": 39,
     "metadata": {},
     "output_type": "execute_result"
    }
   ],
   "source": [
    "np.unique(nomes)"
   ]
  },
  {
   "cell_type": "code",
   "execution_count": 40,
   "id": "ac3ca671",
   "metadata": {},
   "outputs": [
    {
     "data": {
      "text/plain": [
       "array([    0.  ,    70.  ,    84.9 ,   500.  ,  1000.  ,  1640.  ,\n",
       "       18399.99, 42640.18])"
      ]
     },
     "execution_count": 40,
     "metadata": {},
     "output_type": "execute_result"
    }
   ],
   "source": [
    "np.unique(dividas)"
   ]
  }
 ],
 "metadata": {
  "kernelspec": {
   "display_name": "Python 3",
   "language": "python",
   "name": "python3"
  },
  "language_info": {
   "codemirror_mode": {
    "name": "ipython",
    "version": 3
   },
   "file_extension": ".py",
   "mimetype": "text/x-python",
   "name": "python",
   "nbconvert_exporter": "python",
   "pygments_lexer": "ipython3",
   "version": "3.9.6"
  },
  "vscode": {
   "interpreter": {
    "hash": "c9df6bb62f4475c7195813eb4ce8c46fa8ccdd8bb0b7a1258ff830557c0a01ba"
   }
  }
 },
 "nbformat": 4,
 "nbformat_minor": 5
}
