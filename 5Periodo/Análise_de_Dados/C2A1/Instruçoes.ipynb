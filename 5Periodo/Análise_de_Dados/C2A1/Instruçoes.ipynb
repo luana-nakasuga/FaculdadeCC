{
 "cells": [
  {
   "attachments": {},
   "cell_type": "markdown",
   "metadata": {},
   "source": [
    "1 - Baixe o DataSet em Anexo\n",
    "\n",
    "2 - Pesquise o funcionamento da técnica de codificação de atributos categóricos chamado LabelEncoder\n",
    "\n",
    "3 - Crie um Notebook na linguagem de sua preferência e carregue o DataSet para um Data Frame chamado df_original\n",
    "\n",
    "4 - Faça uma cópia do Data Frame com nome de df_no_salary\n",
    "\n",
    "5 - A partir df_no_salary, remova o atributo salary\n",
    "\n",
    "6 - Faça uma análise exploratória do conjunto de dados df_original (EDA - Exploratory Data Analysis)\n",
    "\n",
    "7 - Aplique o LabelEncoder nos atributos categóricos (gender, ssc_b, hsc_b, hsc_s, degree_t, workex, specialisation, status) de df_no_salary\n",
    "\n",
    "8 - Selecione um dos modelos de classificação aprendidos até agora na disciplina (Naive Bayes ou Regressão Logística) e treine-o com df_no_salary. Seu objetivo é prever a recolocação (status = [Placed/Recolocado, Not Placed/Não Recolocado]) de cada indivíduo.\n",
    "\n",
    "9 - Comente as avaliações (Recall, Precision, ROC e AUC) obtidas pelo modelo de classificação utilizado. Informe se os resultados são bons ou ruins de acordo com as métricas.\n",
    "\n",
    "10 - A partir de df_original, crie o Data Frame df_no_status agora removendo a coluna status,  aplicando o LabelEncoder, separe as amostras que não possuem o atributo salary (dados ausentes)\n",
    "\n",
    "11 - Treine um modelo de regressão linear múltipla e preveja os salários (salary) das amostras que não possuem essa informação em df_no_status\n",
    "\n",
    "12 - Para as amostras que não possuem o atributo salary preenchidos em df_no_status, inclua o valor previsto pelo modelo de regressão linear múltipla\n",
    "\n",
    "13 - Agora que você preencheu os dados ausentes do atributo salary de df_no_status, copie o atributos salary de df_no_status para df_original\n",
    "\n",
    "14 - Treine o modelo de classificação selecionado em 8 agora com df_original, com o mesmo objetivo de prever a recolocação\n",
    "\n",
    "15 - Compare e comente os resultados obtidos em 9 com os resultados obtidos em 14\n",
    "\n",
    "16 - Envie o Notebook criado com todos os passos na ordem acima, deixe os comentários no Notebook (Caso esteja utilizando o RStudio, você deverá criar um arquivo em PDF com os comandos utilizados e as saídas obtidas pelos comandos, além de incluir os comentários solicitados)\n",
    "\n",
    "17 - Não serão aceitos trabalhos idênticos ou cópias\n",
    "\n",
    "18 - Inclua no final do trabalho os links pesquisados no decorrer da construção do trabalho como referências\n",
    "\n",
    "19 - Não será necessário apresentar!\n",
    "\n",
    "20 - Essas atividades avaliativas serão EM GRUPOS DE NO MÁXIMO 6 PESSOAS."
   ]
  }
 ],
 "metadata": {
  "language_info": {
   "name": "python"
  },
  "orig_nbformat": 4
 },
 "nbformat": 4,
 "nbformat_minor": 2
}
