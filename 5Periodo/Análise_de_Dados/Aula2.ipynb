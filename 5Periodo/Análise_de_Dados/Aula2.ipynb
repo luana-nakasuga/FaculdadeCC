{
 "cells": [
  {
   "cell_type": "code",
   "execution_count": 1,
   "metadata": {},
   "outputs": [],
   "source": [
    "import numpy as np"
   ]
  },
  {
   "cell_type": "code",
   "execution_count": 2,
   "metadata": {},
   "outputs": [],
   "source": [
    "matriz1 = np.random.randn(8,3)\n",
    "matriz2 = np.random.randn(8,3)"
   ]
  },
  {
   "cell_type": "code",
   "execution_count": 3,
   "metadata": {},
   "outputs": [
    {
     "data": {
      "text/plain": [
       "array([[-0.46289411, -0.18340572,  1.01159895],\n",
       "       [ 0.35887204,  0.40018527, -1.92528825],\n",
       "       [-0.64315123, -2.26251866, -0.09537163],\n",
       "       [ 2.50715648,  1.56114561, -0.83199191],\n",
       "       [-0.82018654, -0.15443246,  0.03849874],\n",
       "       [ 1.75362032, -0.21267014, -0.45262045],\n",
       "       [ 1.37975226, -4.2780936 , -1.48526435],\n",
       "       [ 1.00029672, -3.11236053, -1.93036784]])"
      ]
     },
     "execution_count": 3,
     "metadata": {},
     "output_type": "execute_result"
    }
   ],
   "source": [
    "np.add(matriz1, matriz2)"
   ]
  },
  {
   "cell_type": "code",
   "execution_count": 21,
   "metadata": {},
   "outputs": [
    {
     "data": {
      "text/plain": [
       "array([[ 0.21028613, -1.14141794,  0.19041108, -0.61791104,  0.63668566,\n",
       "        -1.12155888, -0.02120575, -0.87460201],\n",
       "       [-1.0754707 , -2.31097339,  2.66796748, -0.46580376,  1.33527578,\n",
       "        -2.4949535 , -0.83959048,  1.08389743],\n",
       "       [ 0.85359449, -0.5180222 , -0.90099736, -0.66624636,  0.19846441,\n",
       "        -0.29945718,  0.68034028, -1.70177617],\n",
       "       [-0.17040228,  3.62621466, -3.78672324,  1.54489114, -1.05271359,\n",
       "         2.22399254, -3.88889849, -0.1754711 ],\n",
       "       [-0.21974162,  0.69457768,  1.73427891,  0.53536709, -1.07961565,\n",
       "         1.66577991,  2.94107961,  2.12288386],\n",
       "       [ 0.08321142, -0.56715503, -1.24059104, -0.38491995,  0.87263834,\n",
       "        -1.35751396, -2.40170416, -1.5262638 ],\n",
       "       [-0.60065986,  1.70228062,  2.74590387,  1.24049667, -1.9943965 ,\n",
       "         3.14133903,  4.39255016,  3.99721414],\n",
       "       [ 0.04909151, -0.16665021,  3.2783148 ,  0.1135691 , -1.23961871,\n",
       "         1.74978387,  5.71200666,  2.55146094]])"
      ]
     },
     "execution_count": 21,
     "metadata": {},
     "output_type": "execute_result"
    }
   ],
   "source": [
    "np.matmul(matriz1, matriz2.T)"
   ]
  },
  {
   "cell_type": "code",
   "execution_count": 5,
   "metadata": {},
   "outputs": [
    {
     "data": {
      "text/plain": [
       "array([[ 0.50004506,  0.1398121 , -0.32396233],\n",
       "       [ 1.56850138, -0.19115528,  1.46715024],\n",
       "       [-0.06192962,  0.39008141, -1.21326972],\n",
       "       [-1.65508169, -1.56544268,  0.23798448],\n",
       "       [-0.35343662,  0.78771663,  0.38859411],\n",
       "       [ 0.32281728, -0.65818741, -0.18017824],\n",
       "       [-0.7654827 ,  1.06801358,  0.98257834],\n",
       "       [-0.09315487,  1.75454427,  0.04487284]])"
      ]
     },
     "execution_count": 5,
     "metadata": {},
     "output_type": "execute_result"
    }
   ],
   "source": [
    "np.negative(matriz1)"
   ]
  },
  {
   "cell_type": "code",
   "execution_count": 6,
   "metadata": {},
   "outputs": [
    {
     "data": {
      "text/plain": [
       "array([[ 0.02006831, -0.00903126,  0.32396233],\n",
       "       [ 0.35887204,  0.19115528, -0.0927362 ],\n",
       "       [-0.64315123, -0.39008141, -0.09537163],\n",
       "       [ 0.80300689, -0.00298504, -0.23798448],\n",
       "       [-0.82018654,  0.47885172,  0.03849874],\n",
       "       [ 1.75362032, -0.21267014, -0.45262045],\n",
       "       [ 0.15121315, -1.06801358, -0.47989232],\n",
       "       [ 0.09315487, -0.39672801, -0.04487284]])"
      ]
     },
     "execution_count": 6,
     "metadata": {},
     "output_type": "execute_result"
    }
   ],
   "source": [
    "np.mod(matriz1, matriz2)"
   ]
  },
  {
   "cell_type": "code",
   "execution_count": 7,
   "metadata": {},
   "outputs": [
    {
     "data": {
      "text/plain": [
       "array([[0.50004506, 0.1398121 , 0.32396233],\n",
       "       [1.56850138, 0.19115528, 1.46715024],\n",
       "       [0.06192962, 0.39008141, 1.21326972],\n",
       "       [1.65508169, 1.56544268, 0.23798448],\n",
       "       [0.35343662, 0.78771663, 0.38859411],\n",
       "       [0.32281728, 0.65818741, 0.18017824],\n",
       "       [0.7654827 , 1.06801358, 0.98257834],\n",
       "       [0.09315487, 1.75454427, 0.04487284]])"
      ]
     },
     "execution_count": 7,
     "metadata": {},
     "output_type": "execute_result"
    }
   ],
   "source": [
    "np.absolute(matriz1)"
   ]
  },
  {
   "cell_type": "code",
   "execution_count": 8,
   "metadata": {},
   "outputs": [
    {
     "data": {
      "text/plain": [
       "array([[-1., -0.,  0.],\n",
       "       [-2.,  0., -1.],\n",
       "       [ 0., -0.,  1.],\n",
       "       [ 2.,  2., -0.],\n",
       "       [ 0., -1., -0.],\n",
       "       [-0.,  1.,  0.],\n",
       "       [ 1., -1., -1.],\n",
       "       [ 0., -2., -0.]])"
      ]
     },
     "execution_count": 8,
     "metadata": {},
     "output_type": "execute_result"
    }
   ],
   "source": [
    "np.rint(matriz1)"
   ]
  },
  {
   "cell_type": "code",
   "execution_count": 9,
   "metadata": {},
   "outputs": [],
   "source": [
    "array7 = np.array([2.52, 3.42, 1.85, 2.95, 3.95, 3.78, 3.17, 3.96, 2.97, 2.98,\n",
    "3.35, 4.23, 3.42, 4.60, 5.24, 3.64, 4.54, 4.81, 1.77, 1.51, 3.08, 2.00])"
   ]
  },
  {
   "cell_type": "code",
   "execution_count": 10,
   "metadata": {},
   "outputs": [
    {
     "data": {
      "text/plain": [
       "array([1.51, 1.77, 1.85, 2.  , 2.52, 2.95, 2.97, 2.98, 3.08, 3.17, 3.35,\n",
       "       3.42, 3.42, 3.64, 3.78, 3.95, 3.96, 4.23, 4.54, 4.6 , 4.81, 5.24])"
      ]
     },
     "execution_count": 10,
     "metadata": {},
     "output_type": "execute_result"
    }
   ],
   "source": [
    "np.sort(array7) #ordem crescente"
   ]
  },
  {
   "cell_type": "code",
   "execution_count": 11,
   "metadata": {},
   "outputs": [
    {
     "data": {
      "text/plain": [
       "array([5.24, 4.81, 4.6 , 4.54, 4.23, 3.96, 3.95, 3.78, 3.64, 3.42, 3.42,\n",
       "       3.35, 3.17, 3.08, 2.98, 2.97, 2.95, 2.52, 2.  , 1.85, 1.77, 1.51])"
      ]
     },
     "execution_count": 11,
     "metadata": {},
     "output_type": "execute_result"
    }
   ],
   "source": [
    "-np.sort(-array7) #ordem decrescente"
   ]
  },
  {
   "cell_type": "code",
   "execution_count": 12,
   "metadata": {},
   "outputs": [
    {
     "name": "stdout",
     "output_type": "stream",
     "text": [
      "[5.24, 4.81, 4.6, 4.54, 4.23, 3.96, 3.95, 3.78, 3.64, 3.42, 3.42, 3.35, 3.17, 3.08, 2.98, 2.97, 2.95, 2.52, 2.0, 1.85, 1.77, 1.51]\n"
     ]
    }
   ],
   "source": [
    "print(sorted(array7, reverse=True)) #ordem decrescente"
   ]
  },
  {
   "cell_type": "code",
   "execution_count": 13,
   "metadata": {},
   "outputs": [
    {
     "data": {
      "text/plain": [
       "array([[1, 4],\n",
       "       [3, 1]])"
      ]
     },
     "execution_count": 13,
     "metadata": {},
     "output_type": "execute_result"
    }
   ],
   "source": [
    "matriz = np.array([[1, 4], [3, 1]])\n",
    "matriz"
   ]
  },
  {
   "cell_type": "code",
   "execution_count": 14,
   "metadata": {},
   "outputs": [
    {
     "data": {
      "text/plain": [
       "array([[1, 4],\n",
       "       [1, 3]])"
      ]
     },
     "execution_count": 14,
     "metadata": {},
     "output_type": "execute_result"
    }
   ],
   "source": [
    "np.sort(matriz, axis = 1) #Ordena as colunas"
   ]
  },
  {
   "cell_type": "code",
   "execution_count": 15,
   "metadata": {},
   "outputs": [
    {
     "data": {
      "text/plain": [
       "array([[1, 1],\n",
       "       [3, 4]])"
      ]
     },
     "execution_count": 15,
     "metadata": {},
     "output_type": "execute_result"
    }
   ],
   "source": [
    "np.sort(matriz, axis = 0) #Ordena as linhas"
   ]
  },
  {
   "cell_type": "code",
   "execution_count": 16,
   "metadata": {},
   "outputs": [],
   "source": [
    "nomes = np.array(['Bob', 'Joe', 'Will', 'Bob', 'Will', 'Joe', 'Joe'])"
   ]
  },
  {
   "cell_type": "code",
   "execution_count": 17,
   "metadata": {},
   "outputs": [
    {
     "data": {
      "text/plain": [
       "array(['Bob', 'Joe', 'Will'], dtype='<U4')"
      ]
     },
     "execution_count": 17,
     "metadata": {},
     "output_type": "execute_result"
    }
   ],
   "source": [
    "np.unique(nomes)"
   ]
  },
  {
   "cell_type": "code",
   "execution_count": 18,
   "metadata": {},
   "outputs": [],
   "source": [
    "numeros = np.array([3, 3, 2, 2, 1, 1, 1, 4, 4])"
   ]
  },
  {
   "cell_type": "code",
   "execution_count": 19,
   "metadata": {},
   "outputs": [
    {
     "data": {
      "text/plain": [
       "array([1, 2, 3, 4])"
      ]
     },
     "execution_count": 19,
     "metadata": {},
     "output_type": "execute_result"
    }
   ],
   "source": [
    "np.unique(numeros)"
   ]
  }
 ],
 "metadata": {
  "kernelspec": {
   "display_name": "Python 3",
   "language": "python",
   "name": "python3"
  },
  "language_info": {
   "codemirror_mode": {
    "name": "ipython",
    "version": 3
   },
   "file_extension": ".py",
   "mimetype": "text/x-python",
   "name": "python",
   "nbconvert_exporter": "python",
   "pygments_lexer": "ipython3",
   "version": "3.9.6"
  },
  "orig_nbformat": 4
 },
 "nbformat": 4,
 "nbformat_minor": 2
}
