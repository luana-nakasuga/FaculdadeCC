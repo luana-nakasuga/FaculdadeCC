{
 "cells": [
  {
   "cell_type": "code",
   "execution_count": 22,
   "metadata": {},
   "outputs": [],
   "source": [
    "import numpy as np"
   ]
  },
  {
   "cell_type": "code",
   "execution_count": 23,
   "metadata": {},
   "outputs": [],
   "source": [
    "matriz1 = np.random.randn(8,3)\n",
    "matriz2 = np.random.randn(8,3)"
   ]
  },
  {
   "cell_type": "code",
   "execution_count": 24,
   "metadata": {},
   "outputs": [
    {
     "data": {
      "text/plain": [
       "array([[-1.48569625,  2.64207453,  0.75662919],\n",
       "       [ 2.456794  ,  1.77084447, -0.93416418],\n",
       "       [-0.89627078,  0.28743756, -0.70798127],\n",
       "       [-0.58241029, -0.03556803, -1.42085854],\n",
       "       [ 1.92210038, -1.00929728,  2.84135812],\n",
       "       [ 0.39998764,  1.39449428,  1.19764626],\n",
       "       [ 3.06821186,  1.11553228,  0.45174862],\n",
       "       [-0.3251189 ,  1.85315394, -1.88392863]])"
      ]
     },
     "execution_count": 24,
     "metadata": {},
     "output_type": "execute_result"
    }
   ],
   "source": [
    "np.add(matriz1, matriz2)"
   ]
  },
  {
   "cell_type": "code",
   "execution_count": 25,
   "metadata": {},
   "outputs": [
    {
     "data": {
      "text/plain": [
       "array([[-1.33857397,  1.00803907,  2.47840144,  4.07390988, -5.09587479,\n",
       "        -2.64215436, -3.24711753,  1.1088289 ],\n",
       "       [ 0.72457107,  2.03991483, -1.70278754, -3.25393464,  2.32315465,\n",
       "         2.03887817,  1.4465151 ,  0.32757004],\n",
       "       [ 1.76869425,  1.34014283, -1.11430978, -1.67553742,  0.77428145,\n",
       "         1.22670355,  0.55311166, -0.7243913 ],\n",
       "       [ 1.26805114,  3.00047818, -1.99008761, -3.74220356,  2.18218762,\n",
       "         2.39452721,  1.37279321,  0.29055329],\n",
       "       [ 1.58874855, -2.26798139, -1.01958887, -1.04933623,  2.37510474,\n",
       "         0.85978807,  1.59366589, -1.8531175 ],\n",
       "       [ 0.91640959, -0.09431009,  0.35660194,  1.00945754, -1.25719248,\n",
       "        -0.49079451, -0.72904426, -0.72923328],\n",
       "       [ 1.29250336,  3.87192008, -2.39227321, -4.61737171,  2.63120402,\n",
       "         2.9178874 ,  1.63858125,  0.60962533],\n",
       "       [ 1.85672762,  3.05851007, -0.55786208, -0.83543116, -1.2974231 ,\n",
       "         0.71429334, -0.75412724, -0.24031069]])"
      ]
     },
     "execution_count": 25,
     "metadata": {},
     "output_type": "execute_result"
    }
   ],
   "source": [
    "np.matmul(matriz1, matriz2.T)"
   ]
  },
  {
   "cell_type": "code",
   "execution_count": 26,
   "metadata": {},
   "outputs": [
    {
     "data": {
      "text/plain": [
       "array([[ 1.9657738 , -1.40863762,  1.1301408 ],\n",
       "       [-1.50809631, -0.31553384,  0.20597275],\n",
       "       [-0.23857526, -0.90725283, -0.28361724],\n",
       "       [-1.52910839, -0.90915466,  0.31133864],\n",
       "       [-0.17822451,  0.96145845, -1.42523218],\n",
       "       [ 0.9279158 , -0.67911753, -0.27784654],\n",
       "       [-1.97648991, -1.10257198,  0.53865498],\n",
       "       [ 0.40300494, -2.19126796,  0.34587658]])"
      ]
     },
     "execution_count": 26,
     "metadata": {},
     "output_type": "execute_result"
    }
   ],
   "source": [
    "np.negative(matriz1)"
   ]
  },
  {
   "cell_type": "code",
   "execution_count": 27,
   "metadata": {},
   "outputs": [
    {
     "data": {
      "text/plain": [
       "array([[ 0.43461395,  0.1752007 ,  0.75662919],\n",
       "       [ 0.55939862,  0.31553384, -0.20597275],\n",
       "       [-0.89627078, -0.33237771, -0.70798127],\n",
       "       [-0.58241029, -0.03556803, -0.31133864],\n",
       "       [ 0.17822451, -0.00468175,  0.00910624],\n",
       "       [ 0.39998764,  0.67911753,  0.27784654],\n",
       "       [ 0.88476796,  0.00094596,  0.45174862],\n",
       "       [ 0.06431131, -0.17553018, -0.34587658]])"
      ]
     },
     "execution_count": 27,
     "metadata": {},
     "output_type": "execute_result"
    }
   ],
   "source": [
    "np.mod(matriz1, matriz2)"
   ]
  },
  {
   "cell_type": "code",
   "execution_count": 28,
   "metadata": {},
   "outputs": [
    {
     "data": {
      "text/plain": [
       "array([[1.9657738 , 1.40863762, 1.1301408 ],\n",
       "       [1.50809631, 0.31553384, 0.20597275],\n",
       "       [0.23857526, 0.90725283, 0.28361724],\n",
       "       [1.52910839, 0.90915466, 0.31133864],\n",
       "       [0.17822451, 0.96145845, 1.42523218],\n",
       "       [0.9279158 , 0.67911753, 0.27784654],\n",
       "       [1.97648991, 1.10257198, 0.53865498],\n",
       "       [0.40300494, 2.19126796, 0.34587658]])"
      ]
     },
     "execution_count": 28,
     "metadata": {},
     "output_type": "execute_result"
    }
   ],
   "source": [
    "np.absolute(matriz1)"
   ]
  },
  {
   "cell_type": "code",
   "execution_count": 29,
   "metadata": {},
   "outputs": [
    {
     "data": {
      "text/plain": [
       "array([[-2.,  1., -1.],\n",
       "       [ 2.,  0., -0.],\n",
       "       [ 0.,  1.,  0.],\n",
       "       [ 2.,  1., -0.],\n",
       "       [ 0., -1.,  1.],\n",
       "       [-1.,  1.,  0.],\n",
       "       [ 2.,  1., -1.],\n",
       "       [-0.,  2., -0.]])"
      ]
     },
     "execution_count": 29,
     "metadata": {},
     "output_type": "execute_result"
    }
   ],
   "source": [
    "np.rint(matriz1)"
   ]
  },
  {
   "cell_type": "code",
   "execution_count": 30,
   "metadata": {},
   "outputs": [],
   "source": [
    "array7 = np.array([2.52, 3.42, 1.85, 2.95, 3.95, 3.78, 3.17, 3.96, 2.97, 2.98,\n",
    "3.35, 4.23, 3.42, 4.60, 5.24, 3.64, 4.54, 4.81, 1.77, 1.51, 3.08, 2.00])"
   ]
  },
  {
   "cell_type": "code",
   "execution_count": 31,
   "metadata": {},
   "outputs": [
    {
     "data": {
      "text/plain": [
       "array([1.51, 1.77, 1.85, 2.  , 2.52, 2.95, 2.97, 2.98, 3.08, 3.17, 3.35,\n",
       "       3.42, 3.42, 3.64, 3.78, 3.95, 3.96, 4.23, 4.54, 4.6 , 4.81, 5.24])"
      ]
     },
     "execution_count": 31,
     "metadata": {},
     "output_type": "execute_result"
    }
   ],
   "source": [
    "np.sort(array7) #ordem crescente"
   ]
  },
  {
   "cell_type": "code",
   "execution_count": 32,
   "metadata": {},
   "outputs": [
    {
     "data": {
      "text/plain": [
       "array([5.24, 4.81, 4.6 , 4.54, 4.23, 3.96, 3.95, 3.78, 3.64, 3.42, 3.42,\n",
       "       3.35, 3.17, 3.08, 2.98, 2.97, 2.95, 2.52, 2.  , 1.85, 1.77, 1.51])"
      ]
     },
     "execution_count": 32,
     "metadata": {},
     "output_type": "execute_result"
    }
   ],
   "source": [
    "-np.sort(-array7) #ordem decrescente"
   ]
  },
  {
   "cell_type": "code",
   "execution_count": 33,
   "metadata": {},
   "outputs": [
    {
     "name": "stdout",
     "output_type": "stream",
     "text": [
      "[5.24, 4.81, 4.6, 4.54, 4.23, 3.96, 3.95, 3.78, 3.64, 3.42, 3.42, 3.35, 3.17, 3.08, 2.98, 2.97, 2.95, 2.52, 2.0, 1.85, 1.77, 1.51]\n"
     ]
    }
   ],
   "source": [
    "print(sorted(array7, reverse=True)) #ordem decrescente"
   ]
  },
  {
   "cell_type": "code",
   "execution_count": 34,
   "metadata": {},
   "outputs": [
    {
     "data": {
      "text/plain": [
       "array([[1, 4],\n",
       "       [3, 1]])"
      ]
     },
     "execution_count": 34,
     "metadata": {},
     "output_type": "execute_result"
    }
   ],
   "source": [
    "matriz = np.array([[1, 4], [3, 1]])\n",
    "matriz"
   ]
  },
  {
   "cell_type": "code",
   "execution_count": 35,
   "metadata": {},
   "outputs": [
    {
     "data": {
      "text/plain": [
       "array([[1, 4],\n",
       "       [1, 3]])"
      ]
     },
     "execution_count": 35,
     "metadata": {},
     "output_type": "execute_result"
    }
   ],
   "source": [
    "np.sort(matriz, axis = 1) #Ordena as colunas"
   ]
  },
  {
   "cell_type": "code",
   "execution_count": 36,
   "metadata": {},
   "outputs": [
    {
     "data": {
      "text/plain": [
       "array([[1, 1],\n",
       "       [3, 4]])"
      ]
     },
     "execution_count": 36,
     "metadata": {},
     "output_type": "execute_result"
    }
   ],
   "source": [
    "np.sort(matriz, axis = 0) #Ordena as linhas"
   ]
  },
  {
   "cell_type": "code",
   "execution_count": 37,
   "metadata": {},
   "outputs": [],
   "source": [
    "nomes = np.array(['Bob', 'Joe', 'Will', 'Bob', 'Will', 'Joe', 'Joe'])"
   ]
  },
  {
   "cell_type": "code",
   "execution_count": 38,
   "metadata": {},
   "outputs": [
    {
     "data": {
      "text/plain": [
       "array(['Bob', 'Joe', 'Will'], dtype='<U4')"
      ]
     },
     "execution_count": 38,
     "metadata": {},
     "output_type": "execute_result"
    }
   ],
   "source": [
    "np.unique(nomes)"
   ]
  },
  {
   "cell_type": "code",
   "execution_count": 39,
   "metadata": {},
   "outputs": [],
   "source": [
    "numeros = np.array([3, 3, 2, 2, 1, 1, 1, 4, 4])"
   ]
  },
  {
   "cell_type": "code",
   "execution_count": 40,
   "metadata": {},
   "outputs": [
    {
     "data": {
      "text/plain": [
       "array([1, 2, 3, 4])"
      ]
     },
     "execution_count": 40,
     "metadata": {},
     "output_type": "execute_result"
    }
   ],
   "source": [
    "np.unique(numeros)"
   ]
  }
 ],
 "metadata": {
  "kernelspec": {
   "display_name": "Python 3",
   "language": "python",
   "name": "python3"
  },
  "language_info": {
   "codemirror_mode": {
    "name": "ipython",
    "version": 3
   },
   "file_extension": ".py",
   "mimetype": "text/x-python",
   "name": "python",
   "nbconvert_exporter": "python",
   "pygments_lexer": "ipython3",
   "version": "3.9.6"
  },
  "orig_nbformat": 4
 },
 "nbformat": 4,
 "nbformat_minor": 2
}
