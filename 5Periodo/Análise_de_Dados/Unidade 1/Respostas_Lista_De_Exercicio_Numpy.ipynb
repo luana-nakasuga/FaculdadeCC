{
 "cells": [
  {
   "attachments": {},
   "cell_type": "markdown",
   "id": "26ab8f09",
   "metadata": {},
   "source": [
    "Questão 1"
   ]
  },
  {
   "cell_type": "code",
   "execution_count": 44,
   "id": "14621934",
   "metadata": {},
   "outputs": [],
   "source": [
    "import numpy as np"
   ]
  },
  {
   "attachments": {},
   "cell_type": "markdown",
   "id": "e45bd64a",
   "metadata": {},
   "source": [
    "Questão 2"
   ]
  },
  {
   "cell_type": "code",
   "execution_count": 45,
   "id": "3b59c8d4",
   "metadata": {},
   "outputs": [],
   "source": [
    "lista = range(10000000)"
   ]
  },
  {
   "cell_type": "code",
   "execution_count": 46,
   "id": "9d00700a",
   "metadata": {},
   "outputs": [],
   "source": [
    "vetor = np.arange(10000000)"
   ]
  },
  {
   "cell_type": "code",
   "execution_count": 47,
   "id": "fd386b68",
   "metadata": {},
   "outputs": [
    {
     "name": "stdout",
     "output_type": "stream",
     "text": [
      "CPU times: total: 5.06 s\n",
      "Wall time: 8.58 s\n"
     ]
    }
   ],
   "source": [
    "%time for _ in range(10): vetor2 = np.square(lista)"
   ]
  },
  {
   "cell_type": "code",
   "execution_count": 48,
   "id": "2f09121b",
   "metadata": {},
   "outputs": [
    {
     "name": "stdout",
     "output_type": "stream",
     "text": [
      "CPU times: total: 203 ms\n",
      "Wall time: 192 ms\n"
     ]
    }
   ],
   "source": [
    "%time for _ in range(10): vetor= vetor**2"
   ]
  },
  {
   "attachments": {},
   "cell_type": "markdown",
   "id": "c82f35a2",
   "metadata": {},
   "source": [
    "Questão 3"
   ]
  },
  {
   "cell_type": "code",
   "execution_count": 49,
   "id": "268997b5",
   "metadata": {},
   "outputs": [
    {
     "data": {
      "text/plain": [
       "array([[92, 72, 21],\n",
       "       [11, 58, 35],\n",
       "       [61, 15, 32],\n",
       "       [61, 27, 52],\n",
       "       [52, 26, 62]])"
      ]
     },
     "execution_count": 49,
     "metadata": {},
     "output_type": "execute_result"
    }
   ],
   "source": [
    "matriz1 = np.random.randint(1,100, size=(5,3))\n",
    "matriz1"
   ]
  },
  {
   "cell_type": "code",
   "execution_count": 50,
   "id": "eb7ccea7",
   "metadata": {},
   "outputs": [
    {
     "data": {
      "text/plain": [
       "array([[9.59166305, 8.48528137, 4.58257569],\n",
       "       [3.31662479, 7.61577311, 5.91607978],\n",
       "       [7.81024968, 3.87298335, 5.65685425],\n",
       "       [7.81024968, 5.19615242, 7.21110255],\n",
       "       [7.21110255, 5.09901951, 7.87400787]])"
      ]
     },
     "execution_count": 50,
     "metadata": {},
     "output_type": "execute_result"
    }
   ],
   "source": [
    "np.sqrt(matriz1)"
   ]
  },
  {
   "attachments": {},
   "cell_type": "markdown",
   "id": "183e4b10",
   "metadata": {},
   "source": [
    "Questão 4"
   ]
  },
  {
   "cell_type": "code",
   "execution_count": 51,
   "id": "12f2ecaa",
   "metadata": {},
   "outputs": [],
   "source": [
    "matriz2 = np.random.rand(8, 5)\n",
    "matriz3 = np.array([[7., 8, 9, 10.98], [65, 42, 3, 18]])\n",
    "matriz4 = np.array([[1, \"2\", \"4.5\", 7], [4, \"18\", 14, \"3\"]], dtype=np.string_)"
   ]
  },
  {
   "cell_type": "code",
   "execution_count": 52,
   "id": "97bffa01",
   "metadata": {},
   "outputs": [
    {
     "data": {
      "text/plain": [
       "(8, 5)"
      ]
     },
     "execution_count": 52,
     "metadata": {},
     "output_type": "execute_result"
    }
   ],
   "source": [
    "matriz2.shape"
   ]
  },
  {
   "cell_type": "code",
   "execution_count": 53,
   "id": "e5da81b6",
   "metadata": {},
   "outputs": [
    {
     "data": {
      "text/plain": [
       "(2, 4)"
      ]
     },
     "execution_count": 53,
     "metadata": {},
     "output_type": "execute_result"
    }
   ],
   "source": [
    "matriz3.shape"
   ]
  },
  {
   "cell_type": "code",
   "execution_count": 54,
   "id": "a6866b3c",
   "metadata": {},
   "outputs": [
    {
     "data": {
      "text/plain": [
       "(2, 4)"
      ]
     },
     "execution_count": 54,
     "metadata": {},
     "output_type": "execute_result"
    }
   ],
   "source": [
    "matriz4.shape"
   ]
  },
  {
   "cell_type": "code",
   "execution_count": 55,
   "id": "15ee8bd8",
   "metadata": {},
   "outputs": [
    {
     "data": {
      "text/plain": [
       "dtype('float64')"
      ]
     },
     "execution_count": 55,
     "metadata": {},
     "output_type": "execute_result"
    }
   ],
   "source": [
    "matriz2.dtype"
   ]
  },
  {
   "cell_type": "code",
   "execution_count": 56,
   "id": "c104670b",
   "metadata": {},
   "outputs": [
    {
     "data": {
      "text/plain": [
       "dtype('float64')"
      ]
     },
     "execution_count": 56,
     "metadata": {},
     "output_type": "execute_result"
    }
   ],
   "source": [
    "matriz3.dtype"
   ]
  },
  {
   "cell_type": "code",
   "execution_count": 57,
   "id": "52316af6",
   "metadata": {},
   "outputs": [
    {
     "data": {
      "text/plain": [
       "dtype('S3')"
      ]
     },
     "execution_count": 57,
     "metadata": {},
     "output_type": "execute_result"
    }
   ],
   "source": [
    "matriz4.dtype"
   ]
  },
  {
   "cell_type": "code",
   "execution_count": 58,
   "id": "68a0bfba",
   "metadata": {},
   "outputs": [
    {
     "data": {
      "text/plain": [
       "2"
      ]
     },
     "execution_count": 58,
     "metadata": {},
     "output_type": "execute_result"
    }
   ],
   "source": [
    "matriz2.ndim"
   ]
  },
  {
   "cell_type": "code",
   "execution_count": 59,
   "id": "29025454",
   "metadata": {},
   "outputs": [
    {
     "data": {
      "text/plain": [
       "2"
      ]
     },
     "execution_count": 59,
     "metadata": {},
     "output_type": "execute_result"
    }
   ],
   "source": [
    "matriz3.ndim"
   ]
  },
  {
   "cell_type": "code",
   "execution_count": 60,
   "id": "c44ab891",
   "metadata": {},
   "outputs": [
    {
     "data": {
      "text/plain": [
       "2"
      ]
     },
     "execution_count": 60,
     "metadata": {},
     "output_type": "execute_result"
    }
   ],
   "source": [
    "matriz4.ndim"
   ]
  },
  {
   "attachments": {},
   "cell_type": "markdown",
   "id": "e48a5e0e",
   "metadata": {},
   "source": [
    "Questão 5"
   ]
  },
  {
   "cell_type": "code",
   "execution_count": 61,
   "id": "5d0aadc4",
   "metadata": {},
   "outputs": [
    {
     "data": {
      "text/plain": [
       "array([[ 0.93074605,  0.29779032,  0.08750341, -1.47712176],\n",
       "       [-0.25494784,  0.94020839,  0.12787218,  0.97746036],\n",
       "       [ 0.72934719,  0.65215517,  1.60958237,  2.28410078]])"
      ]
     },
     "execution_count": 61,
     "metadata": {},
     "output_type": "execute_result"
    }
   ],
   "source": [
    "matriz5 = np.random.randn(3,4)\n",
    "matriz5"
   ]
  },
  {
   "cell_type": "code",
   "execution_count": 62,
   "id": "36066e75",
   "metadata": {},
   "outputs": [
    {
     "data": {
      "text/plain": [
       "array([[ 1.,  0.,  0., -1.],\n",
       "       [-0.,  1.,  0.,  1.],\n",
       "       [ 1.,  1.,  2.,  2.]])"
      ]
     },
     "execution_count": 62,
     "metadata": {},
     "output_type": "execute_result"
    }
   ],
   "source": [
    "np.rint(matriz5)"
   ]
  },
  {
   "cell_type": "code",
   "execution_count": 63,
   "id": "be03497d",
   "metadata": {},
   "outputs": [
    {
     "data": {
      "text/plain": [
       "'[[ 0.93074605  0.29779032  0.08750341 -1.47712176]\\n [-0.25494784  0.94020839  0.12787218  0.97746036]\\n [ 0.72934719  0.65215517  1.60958237  2.28410078]]'"
      ]
     },
     "execution_count": 63,
     "metadata": {},
     "output_type": "execute_result"
    }
   ],
   "source": [
    "np.str_(matriz5)"
   ]
  },
  {
   "attachments": {},
   "cell_type": "markdown",
   "id": "9ac447a4",
   "metadata": {},
   "source": [
    "Questão 6"
   ]
  },
  {
   "cell_type": "code",
   "execution_count": 64,
   "id": "169c6fc1",
   "metadata": {},
   "outputs": [
    {
     "data": {
      "text/plain": [
       "array([70, 75, 55, 44, 54, 58, 13, 45, 36,  3, 69,  1, 90, 84, 77, 60, 44,\n",
       "       27, 51,  8, 28, 68, 79, 33, 81, 59, 54, 88, 31, 17, 90, 96,  9, 89,\n",
       "       53, 22, 82, 77, 40,  4, 75, 91, 35, 87, 89, 82, 66, 44, 44, 31, 19,\n",
       "       71, 50, 57, 46, 93, 88, 37,  1, 63,  5, 82, 68, 88, 83, 96, 26, 25,\n",
       "       16, 73, 18, 38, 64, 59, 60, 53, 59, 55, 37, 17, 11, 36, 82, 98, 40,\n",
       "       53, 73,  2, 21, 84,  1, 81, 66,  5, 51, 56, 79, 11, 32, 67])"
      ]
     },
     "execution_count": 64,
     "metadata": {},
     "output_type": "execute_result"
    }
   ],
   "source": [
    "vetor3 = np.random.randint(100, size=100)\n",
    "vetor3"
   ]
  },
  {
   "cell_type": "code",
   "execution_count": 65,
   "id": "ec0722c1",
   "metadata": {},
   "outputs": [
    {
     "data": {
      "text/plain": [
       "9"
      ]
     },
     "execution_count": 65,
     "metadata": {},
     "output_type": "execute_result"
    }
   ],
   "source": [
    "vetor3[32]"
   ]
  },
  {
   "cell_type": "code",
   "execution_count": 66,
   "id": "9b8f3bdd",
   "metadata": {},
   "outputs": [
    {
     "data": {
      "text/plain": [
       "array([ 70,  75,  55,  44,  54,  58,  13,  45,  36,   3,  69,   1,  90,\n",
       "        84,  77,  60,  44,  27, 128, 128, 128, 128, 128, 128, 128, 128,\n",
       "       128, 128, 128, 128, 128, 128, 128,  89,  53,  22,  82,  77,  40,\n",
       "         4,  75,  91,  35,  87,  89,  82,  66,  44,  44,  31,  19,  71,\n",
       "        50,  57,  46,  93,  88,  37,   1,  63,   5,  82,  68,  88,  83,\n",
       "        96,  26,  25,  16,  73,  18,  38,  64,  59,  60,  53,  59,  55,\n",
       "        37,  17,  11,  36,  82,  98,  40,  53,  73,   2,  21,  84,   1,\n",
       "        81,  66,   5,  51,  56,  79,  11,  32,  67])"
      ]
     },
     "execution_count": 66,
     "metadata": {},
     "output_type": "execute_result"
    }
   ],
   "source": [
    "vetor3[18:33] = 128\n",
    "vetor3"
   ]
  },
  {
   "cell_type": "code",
   "execution_count": 67,
   "id": "a46597d5",
   "metadata": {},
   "outputs": [],
   "source": [
    "vetor4 = np.copy(vetor3)"
   ]
  },
  {
   "cell_type": "code",
   "execution_count": 68,
   "id": "1568e21f",
   "metadata": {},
   "outputs": [
    {
     "data": {
      "text/plain": [
       "array([ 70,  75,  55,  44,  54,  58,  13,  45,  36,   3,  69,   1,  90,\n",
       "        84,  77,  60,  44,  27, 256, 256, 256, 256, 256, 256, 256, 256,\n",
       "       256, 256, 256, 256, 256, 256, 256,  89,  53,  22,  82,  77,  40,\n",
       "         4,  75,  91,  35,  87,  89,  82,  66,  44,  44,  31,  19,  71,\n",
       "        50,  57,  46,  93,  88,  37,   1,  63,   5,  82,  68,  88,  83,\n",
       "        96,  26,  25,  16,  73,  18,  38,  64,  59,  60,  53,  59,  55,\n",
       "        37,  17,  11,  36,  82,  98,  40,  53,  73,   2,  21,  84,   1,\n",
       "        81,  66,   5,  51,  56,  79,  11,  32,  67])"
      ]
     },
     "execution_count": 68,
     "metadata": {},
     "output_type": "execute_result"
    }
   ],
   "source": [
    "vetor4[18:33] = 256\n",
    "vetor4"
   ]
  },
  {
   "attachments": {},
   "cell_type": "markdown",
   "id": "c0180c25",
   "metadata": {},
   "source": [
    "Questão 7"
   ]
  },
  {
   "cell_type": "code",
   "execution_count": 69,
   "id": "be925bcf",
   "metadata": {},
   "outputs": [
    {
     "data": {
      "text/plain": [
       "array([[ 1,  2,  3,  4],\n",
       "       [ 5,  6,  7,  8],\n",
       "       [ 9, 10, 11, 12],\n",
       "       [13, 14, 15, 16]])"
      ]
     },
     "execution_count": 69,
     "metadata": {},
     "output_type": "execute_result"
    }
   ],
   "source": [
    "arr2d = np.array([[1, 2, 3, 4], [5, 6, 7, 8], [9, 10, 11, 12], [13, 14, 15, 16]])\n",
    "arr2d"
   ]
  },
  {
   "cell_type": "code",
   "execution_count": 70,
   "id": "6c62b0e4",
   "metadata": {},
   "outputs": [
    {
     "data": {
      "text/plain": [
       "array([[5, 6, 7]])"
      ]
     },
     "execution_count": 70,
     "metadata": {},
     "output_type": "execute_result"
    }
   ],
   "source": [
    "arr2d[1:2,:3]"
   ]
  },
  {
   "cell_type": "code",
   "execution_count": 71,
   "id": "29a8af78",
   "metadata": {},
   "outputs": [
    {
     "data": {
      "text/plain": [
       "array([ 7, 11, 15])"
      ]
     },
     "execution_count": 71,
     "metadata": {},
     "output_type": "execute_result"
    }
   ],
   "source": [
    "arr2d[1:4,2]"
   ]
  },
  {
   "attachments": {},
   "cell_type": "markdown",
   "id": "58a38564",
   "metadata": {},
   "source": [
    "Questão 8"
   ]
  },
  {
   "cell_type": "code",
   "execution_count": 72,
   "id": "594ff6a5",
   "metadata": {},
   "outputs": [],
   "source": [
    "nomes = np.array([\"Antônio\", \"Carlos\", \"Carlos\", \"Antônio\", \"José\", \"Alfredo\", \"Alfredo\", \"Antônio\"])"
   ]
  },
  {
   "cell_type": "code",
   "execution_count": 73,
   "id": "bc1eaa35",
   "metadata": {},
   "outputs": [],
   "source": [
    "dividas = np.array([1000., 500., 0, 1640, 18399.99, 42640.18, 70., 84.90])"
   ]
  },
  {
   "cell_type": "code",
   "execution_count": 84,
   "id": "ca89b5ab",
   "metadata": {},
   "outputs": [
    {
     "name": "stdout",
     "output_type": "stream",
     "text": [
      "Antônio 1000.0\n",
      "Antônio 1640.0\n",
      "José 18399.99\n",
      "Antônio 84.9\n"
     ]
    }
   ],
   "source": [
    "indices = np.where((nomes == \"Antônio\") | (nomes == \"José\"))\n",
    "for i in indices[0]:\n",
    "    print(nomes[i], dividas[i])"
   ]
  },
  {
   "cell_type": "code",
   "execution_count": 76,
   "id": "ae69a0d4",
   "metadata": {},
   "outputs": [
    {
     "name": "stdout",
     "output_type": "stream",
     "text": [
      "Carlos 500.0\n",
      "Carlos 0.0\n",
      "Alfredo 42640.18\n",
      "Alfredo 70.0\n"
     ]
    }
   ],
   "source": [
    "indices = np.where((nomes != \"Antônio\") & (nomes != \"José\"))\n",
    "for i in indices[0]:\n",
    "    print(nomes[i], dividas[i])"
   ]
  },
  {
   "cell_type": "code",
   "execution_count": 77,
   "id": "db8fabca",
   "metadata": {},
   "outputs": [
    {
     "name": "stdout",
     "output_type": "stream",
     "text": [
      "Carlos\n"
     ]
    }
   ],
   "source": [
    "indices = np.where(dividas == 0)\n",
    "for i in indices[0]:\n",
    "    print(nomes[i])"
   ]
  },
  {
   "cell_type": "code",
   "execution_count": 78,
   "id": "217e01ab",
   "metadata": {},
   "outputs": [
    {
     "name": "stdout",
     "output_type": "stream",
     "text": [
      "José\n",
      "Alfredo\n"
     ]
    }
   ],
   "source": [
    "indices = np.where(dividas > 10000)\n",
    "for i in indices[0]:\n",
    "    print(nomes[i])"
   ]
  },
  {
   "cell_type": "code",
   "execution_count": 79,
   "id": "7245b475",
   "metadata": {},
   "outputs": [
    {
     "name": "stdout",
     "output_type": "stream",
     "text": [
      "Alfredo\n",
      "Antônio\n"
     ]
    }
   ],
   "source": [
    "indices = np.where((dividas < 100) & (dividas > 0))\n",
    "for i in indices[0]:\n",
    "    print(nomes[i])"
   ]
  },
  {
   "attachments": {},
   "cell_type": "markdown",
   "id": "ba312a84",
   "metadata": {},
   "source": [
    "Questão 9"
   ]
  },
  {
   "cell_type": "code",
   "execution_count": 80,
   "id": "190bfc6a",
   "metadata": {},
   "outputs": [
    {
     "data": {
      "text/plain": [
       "array(['Alfredo', 'Alfredo', 'Antônio', 'Antônio', 'Antônio', 'Carlos',\n",
       "       'Carlos', 'José'], dtype='<U7')"
      ]
     },
     "execution_count": 80,
     "metadata": {},
     "output_type": "execute_result"
    }
   ],
   "source": [
    "np.sort(nomes)"
   ]
  },
  {
   "cell_type": "code",
   "execution_count": 81,
   "id": "c06759ab",
   "metadata": {},
   "outputs": [
    {
     "data": {
      "text/plain": [
       "array([42640.18, 18399.99,  1640.  ,  1000.  ,   500.  ,    84.9 ,\n",
       "          70.  ,     0.  ])"
      ]
     },
     "execution_count": 81,
     "metadata": {},
     "output_type": "execute_result"
    }
   ],
   "source": [
    "-np.sort(-dividas)"
   ]
  },
  {
   "attachments": {},
   "cell_type": "markdown",
   "id": "69aa84a3",
   "metadata": {},
   "source": [
    "Questão 10"
   ]
  },
  {
   "cell_type": "code",
   "execution_count": 82,
   "id": "a0247129",
   "metadata": {},
   "outputs": [
    {
     "data": {
      "text/plain": [
       "array(['Alfredo', 'Antônio', 'Carlos', 'José'], dtype='<U7')"
      ]
     },
     "execution_count": 82,
     "metadata": {},
     "output_type": "execute_result"
    }
   ],
   "source": [
    "np.unique(nomes)"
   ]
  },
  {
   "cell_type": "code",
   "execution_count": 83,
   "id": "ac3ca671",
   "metadata": {},
   "outputs": [
    {
     "data": {
      "text/plain": [
       "array([    0.  ,    70.  ,    84.9 ,   500.  ,  1000.  ,  1640.  ,\n",
       "       18399.99, 42640.18])"
      ]
     },
     "execution_count": 83,
     "metadata": {},
     "output_type": "execute_result"
    }
   ],
   "source": [
    "np.unique(dividas)"
   ]
  }
 ],
 "metadata": {
  "kernelspec": {
   "display_name": "Python 3",
   "language": "python",
   "name": "python3"
  },
  "language_info": {
   "codemirror_mode": {
    "name": "ipython",
    "version": 3
   },
   "file_extension": ".py",
   "mimetype": "text/x-python",
   "name": "python",
   "nbconvert_exporter": "python",
   "pygments_lexer": "ipython3",
   "version": "3.9.6"
  },
  "vscode": {
   "interpreter": {
    "hash": "c9df6bb62f4475c7195813eb4ce8c46fa8ccdd8bb0b7a1258ff830557c0a01ba"
   }
  }
 },
 "nbformat": 4,
 "nbformat_minor": 5
}
