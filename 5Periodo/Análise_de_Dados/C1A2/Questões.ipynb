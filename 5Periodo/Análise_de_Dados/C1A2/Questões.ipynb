{
 "cells": [
  {
   "cell_type": "markdown",
   "metadata": {},
   "source": [
    "1 (Valor: 0,8 pontos) - Crie o DataFrame navegadores da página 70 do material da disciplina. Faça o que se pede:\n",
    "\n",
    "\n",
    "(a) Realize um filtro a partir da coluna http_status onde o código é igual à 200.\n",
    "\n",
    "\n",
    "(b) Realize um filtro a partir da coluna response_time onde o tempo de resposta é menor que 0.08 ms.\n",
    "\n",
    "\n",
    "(c) Reindexe o DataFrame com o objeto new_index apresentado logo abaixo da criação do objeto navegadores.\n",
    "\n",
    "\n",
    "(d) Refaça as atividades (a) e (b) e verifique se os resultados são os mesmos.\n",
    "\n",
    "\n",
    "(e) Substitua o campo http_status do browser Iceweasel pelo código 501 e o campo response_time por 10.0.\n",
    "\n",
    "\n",
    "(f) Substitua o campo http_status do browser Comodo Drago pelo código 503 e o campo response_time por 8.0.\n",
    "\n",
    "\n",
    "(g) Com a nova reindexação, alguns índices acabaram sendo removidos. Descubra quais foram removidos e reinsira-os com seus respectivos campos.\n",
    "\n",
    "\n",
    "(h) Pesquise as versões atuais de cada navegador e inclua um novo atributo chamado version com as informações encontradas."
   ]
  },
  {
   "cell_type": "markdown",
   "metadata": {},
   "source": [
    "2 (Valor: 1,2 pontos) - Pesquise e crie um exemplo sobre os seguintes métodos do DataFrame Pandas:\n",
    "\n",
    "\n",
    "(a) dropna e drop_duplicates\n",
    "\n",
    "\n",
    "(b) merge e concat\n",
    "\n",
    "\n",
    "(c) groupby"
   ]
  }
 ],
 "metadata": {
  "language_info": {
   "name": "python"
  },
  "orig_nbformat": 4
 },
 "nbformat": 4,
 "nbformat_minor": 2
}
