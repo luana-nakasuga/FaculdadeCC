{
 "cells": [
  {
   "cell_type": "markdown",
   "id": "6ae0d085",
   "metadata": {},
   "source": [
    "# Tipos de Aprendizagem\n",
    "## Aprendizagem Supervisionada\n",
    "Uma possível associação entre um professor ensinando a um aluno com aprendizagem supervisionada seria considerar o professor como o modelo de machine learning e o aluno como o conjunto de dados de treinamento. Assim como o modelo de machine learning recebe um conjunto de dados para aprender a fazer previsões, o professor recebe um aluno para ensinar a aprender determinado conteúdo.\n",
    "\n",
    "Durante o processo de aprendizagem supervisionada, o modelo é alimentado com exemplos de entradas e saídas corretas, assim como o professor ensina o aluno através de exemplos e exercícios resolvidos. O objetivo é que o modelo ou o aluno aprenda a generalizar e a fazer previsões ou resoluções corretas em novas situações.\n",
    "\n",
    "Assim como na aprendizagem supervisionada, o professor pode utilizar diferentes estratégias de ensino, como explicação teórica, exemplos práticos e exercícios, para ajudar o aluno a entender e aplicar o conteúdo. Da mesma forma, o modelo pode ser avaliado utilizando métricas de performance, assim como o aluno é avaliado através de provas e trabalhos para verificar o nível de aprendizado alcançado.\n",
    "\n",
    "Portanto, podemos fazer uma associação entre o processo de aprendizagem supervisionada e o processo de ensino, onde o objetivo é ensinar ao modelo ou ao aluno a realizar previsões ou resoluções corretas em novas situações.\n",
    "\n",
    "## Aprendizagem Não Supervisionada\n",
    "Para fazer uma analogia com o processo de ensino na aprendizagem não supervisionada, podemos considerar um professor que dá a seus alunos um problema para resolução, sem fornecer exemplos ou respostas pré-definidas.\n",
    "\n",
    "Neste caso, os alunos devem encontrar padrões e estruturas nos dados fornecidos e, a partir disso, identificar categorias ou agrupamentos que permitam uma melhor compreensão e análise dos dados.\n",
    "\n",
    "Assim como na aprendizagem não supervisionada, o professor não fornece respostas ou exemplos pré-definidos, mas sim uma base de dados para que os alunos possam explorar e encontrar suas próprias soluções. Os alunos precisam ser capazes de identificar padrões e estruturas nos dados, e agrupá-los de forma apropriada, sem uma orientação clara sobre o que procurar.\n",
    "\n",
    "Na aprendizagem não supervisionada, o objetivo é explorar e descobrir estruturas nos dados, ao invés de realizar uma tarefa específica de classificação ou previsão. Assim, as métricas de avaliação utilizadas para a aprendizagem supervisionada, como precision, recall, f1 e auc-roc, não se aplicam diretamente à aprendizagem não supervisionada.\n",
    "\n",
    "Em vez disso, são utilizadas métricas específicas para avaliar a qualidade do agrupamento, como a coerência dentro dos grupos (intracluster coherence) e a distinção entre os grupos (intercluster distinction). Estas métricas podem ajudar a avaliar a eficácia da solução encontrada pelos alunos, assim como as métricas de avaliação de modelos ajudam a avaliar a eficácia de um modelo de machine learning.\n",
    "\n",
    "## Aprendizagem Semi-Supervisionada\n",
    "Podemos fazer uma analogia entre o processo de aprendizagem semi-supervisionada e o processo de aprendizagem de uma língua estrangeira.\n",
    "\n",
    "Imagine que você esteja aprendendo uma língua estrangeira, mas só tem acesso a algumas palavras e frases traduzidas. Com base nesse conjunto limitado de informações, você começa a tentar entender e falar a língua, usando sua intuição e inferência para tentar preencher as lacunas em seu conhecimento.\n",
    "\n",
    "Da mesma forma, na aprendizagem semi-supervisionada, um algoritmo recebe um conjunto limitado de dados rotulados, ou seja, dados onde as classes já são conhecidas, e um conjunto maior de dados não rotulados, ou seja, dados onde as classes não são conhecidas. Usando o conjunto limitado de dados rotulados como ponto de partida, o algoritmo tenta inferir as classes dos dados não rotulados, e usa essa inferência para melhorar seu desempenho na tarefa em questão.\n",
    "\n",
    "Assim como no exemplo da aprendizagem de uma língua estrangeira, o algoritmo usa sua intuição e inferência para tentar preencher as lacunas em seu conhecimento, usando o conjunto limitado de dados rotulados como ponto de partida.\n",
    "\n",
    "As métricas utilizadas na aprendizagem semi-supervisionada são semelhantes às métricas utilizadas na aprendizagem supervisionada, como precisão, recall, f1-score e AUC. No entanto, como o conjunto de dados não rotulados é muito maior do que o conjunto de dados rotulados, a avaliação do desempenho do algoritmo pode ser mais desafiadora. Algumas das técnicas comuns para avaliação incluem a validação cruzada semi-supervisionada e a análise de consistência de rótulos.\n",
    "\n",
    "## Aprendizagem Por Reforço\n",
    "Podemos fazer uma analogia entre o processo de aprendizagem por reforço e o processo de treinamento de um animal de estimação, como um cão. \n",
    "\n",
    "Imagine que um dono de cão quer treinar seu animal para buscar uma bola. O dono joga a bola e recompensa o cão com um petisco quando ele traz a bola de volta. O cão aprende a associar a busca da bola com uma recompensa e, gradualmente, melhora sua habilidade em trazer a bola de volta de forma mais eficiente.\n",
    "\n",
    "Da mesma forma, na aprendizagem por reforço, um agente de inteligência artificial recebe um conjunto de estados, ações e recompensas, e aprende a associar ações específicas com recompensas positivas ou negativas. Através de tentativa e erro, o agente aprende a maximizar a recompensa total ao longo do tempo, ou seja, aprende a tomar ações que levem ao melhor resultado possível.\n",
    "\n",
    "Assim como no exemplo do cão, o agente aprende a associar uma ação específica com uma recompensa positiva ou negativa, e usa essa associação para tomar decisões no futuro. O objetivo é maximizar a recompensa total, assim como o objetivo do dono de cão é treinar o animal para buscar a bola de forma mais eficiente.\n",
    "\n",
    "Na aprendizagem por reforço, as métricas utilizadas para avaliar o desempenho do agente são diferentes das métricas utilizadas na aprendizagem supervisionada e não supervisionada. As principais métricas são a recompensa total acumulada ao longo do tempo e a taxa de convergência, que indica a velocidade com que o agente aprende a maximizar a recompensa."
   ]
  },
  {
   "cell_type": "markdown",
   "id": "526f1b60",
   "metadata": {},
   "source": [
    "# Classificação"
   ]
  },
  {
   "cell_type": "markdown",
   "id": "8acc5ce4",
   "metadata": {},
   "source": [
    "Olá! Vamos começar a criar sua aula de aprendizagem supervisionada explicando o que são modelos de classificação.\n",
    "\n",
    "Modelos de classificação são algoritmos de aprendizagem de máquina que permitem classificar dados em diferentes classes. Eles são amplamente utilizados em tarefas como previsão de fraudes, detecção de spam, diagnóstico médico, entre outras.\n",
    "\n",
    "Existem diversos modelos de classificação, mas nesta aula vamos nos concentrar em dois deles: Naive Bayes e Regressão Logística.\n",
    "\n",
    "O Naive Bayes é um modelo de classificação probabilístico baseado no Teorema de Bayes. Ele assume que as características (ou features) dos dados são independentes entre si e, por isso, é considerado \"ingênuo\" (naive, em inglês).\n",
    "\n",
    "Já a Regressão Logística é um modelo de classificação que utiliza uma função logística para prever a probabilidade de um evento ocorrer. É um dos modelos mais populares e amplamente utilizados em diferentes áreas, como finanças, marketing e medicina.\n",
    "\n",
    "Agora que já explicamos o que são modelos de classificação e apresentamos os modelos que serão abordados na aula, vamos falar sobre como são utilizados.\n",
    "\n",
    "Os modelos de classificação geralmente são treinados em um conjunto de dados de treinamento que contém exemplos rotulados. O objetivo do treinamento é ajustar os parâmetros do modelo para que ele seja capaz de prever com precisão as classes dos dados de teste.\n",
    "\n",
    "Para avaliar a precisão do modelo, é comum utilizar métricas como a acurácia (proporção de exemplos classificados corretamente) e a matriz de confusão (que mostra quantos exemplos foram classificados corretamente e quantos foram classificados de forma errada para cada classe).\n",
    "\n",
    "Agora que já falamos sobre o que são modelos de classificação e como são utilizados, vamos abordar os cálculos por trás dos modelos.\n",
    "\n",
    "O Naive Bayes utiliza o Teorema de Bayes para calcular a probabilidade de uma classe dado um conjunto de características. A fórmula é a seguinte:\n",
    "\n",
    "`P(C|X) = P(X|C) * P(C) / P(X)`\n",
    "\n",
    "Onde:\n",
    "\n",
    "    P(C|X) é a probabilidade de pertencer à classe C dado o conjunto de características X.\n",
    "    P(X|C) é a probabilidade de observar o conjunto de características X dado que pertence à classe C.\n",
    "    P(C) é a probabilidade de pertencer à classe C (chamada de probabilidade a priori).\n",
    "    P(X) é a probabilidade de observar o conjunto de características X.\n",
    "\n",
    "Na prática, a probabilidade a priori e a probabilidade de observar o conjunto de características são estimadas a partir dos dados de treinamento.\n",
    "\n",
    "Já a Regressão Logística utiliza a função logística para prever a probabilidade de pertencer à classe 1. A fórmula é a seguinte:\n",
    "\n",
    "`P(y=1|x) = 1 / (1 + e^(-z))`\n",
    "\n",
    "Onde:\n",
    "\n",
    "    y é a classe (0 ou 1)\n",
    "    x é o conjunto de características\n",
    "    z é a soma ponderada das características (pesos)\n",
    "\n",
    "Durante o treinamento, os pesos são ajustados para minimizar uma função de custo que penaliza as previsões incorretas.\n",
    "\n",
    "Para interpretar os resultados de um modelo de classificação, é importante avaliar as métricas de desempenho e analisar as previsões incorretas.\n",
    "\n",
    "Por exemplo, a acurácia é uma métrica simples que indica a proporção de exemplos que foram classificados corretamente. No entanto, a acurácia pode ser enganosa em alguns casos, especialmente quando as classes são desbalanceadas (ou seja, uma classe tem muito mais exemplos do que a outra).\n",
    "\n",
    "Nesses casos, é recomendável utilizar outras métricas, como a precisão, a revocação e a medida F1. A precisão mede a proporção de exemplos positivos que foram classificados corretamente, enquanto a revocação mede a proporção de exemplos positivos que foram corretamente identificados.\n",
    "\n",
    "A medida F1 é uma média harmônica da precisão e da revocação, e é uma boa métrica geral para avaliar o desempenho de um modelo de classificação.\n",
    "\n",
    "Para demonstrar o uso dos modelos Naive Bayes e Regressão Logística, podemos utilizar a biblioteca Scikit-Learn do Python. Primeiramente, precisamos importar as bibliotecas necessárias:"
   ]
  },
  {
   "cell_type": "code",
   "execution_count": 4,
   "id": "762ababd",
   "metadata": {},
   "outputs": [],
   "source": [
    "import pandas as pd\n",
    "import numpy as np\n",
    "from sklearn.datasets import load_iris\n",
    "from sklearn.model_selection import train_test_split, cross_val_score\n",
    "from sklearn.naive_bayes import MultinomialNB\n",
    "from sklearn.linear_model import LogisticRegression\n",
    "from sklearn.metrics import accuracy_score, precision_score, recall_score, f1_score, confusion_matrix, classification_report, roc_curve\n",
    "import matplotlib.pyplot as plt"
   ]
  },
  {
   "cell_type": "markdown",
   "id": "5b6a2c0e",
   "metadata": {},
   "source": [
    "A seguir, carregamos um conjunto de dados de exemplo (o conjunto de dados Iris) e separamos em dados de treinamento e teste:"
   ]
  },
  {
   "cell_type": "code",
   "execution_count": 5,
   "id": "36a5b9b9",
   "metadata": {},
   "outputs": [],
   "source": [
    "iris = load_iris()\n",
    "X = iris.data\n",
    "y = iris.target\n",
    "X_train, X_test, y_train, y_test = train_test_split(X, y, test_size=0.3, random_state=42)"
   ]
  },
  {
   "cell_type": "markdown",
   "id": "2154fe84",
   "metadata": {},
   "source": [
    "Agora podemos treinar os modelos e fazer previsões nos dados de teste:"
   ]
  },
  {
   "cell_type": "code",
   "execution_count": 6,
   "id": "7e951c5e",
   "metadata": {},
   "outputs": [],
   "source": [
    "    # Treinando o modelo Naive Bayes\n",
    "nb = MultinomialNB()\n",
    "nb.fit(X_train, y_train)\n",
    "y_pred_nb = nb.predict(X_test)\n",
    "\n",
    "# Treinando o modelo Regressão Logística\n",
    "lr = LogisticRegression(random_state=1032)\n",
    "lr.fit(X_train, y_train)\n",
    "y_pred_lr = lr.predict(X_test)"
   ]
  },
  {
   "cell_type": "markdown",
   "id": "2bdb4fcb",
   "metadata": {},
   "source": [
    "Por fim, podemos visualizar a matriz de confusão para entender melhor as previsões incorretas:"
   ]
  },
  {
   "cell_type": "code",
   "execution_count": 7,
   "id": "c5990260",
   "metadata": {},
   "outputs": [
    {
     "name": "stdout",
     "output_type": "stream",
     "text": [
      "Matriz de confusão Naive Bayes:\n",
      " [[19  0  0]\n",
      " [ 0 12  1]\n",
      " [ 0  1 12]]\n",
      "Matriz de confusão Regressão Logística:\n",
      " [[19  0  0]\n",
      " [ 0 13  0]\n",
      " [ 0  0 13]]\n"
     ]
    },
    {
     "data": {
      "image/png": "[encoded data removed]",
      "text/plain": [
       "<Figure size 1000x500 with 2 Axes>"
      ]
     },
     "metadata": {},
     "output_type": "display_data"
    }
   ],
   "source": [
    "# Matriz de confusão\n",
    "conf_nb = confusion_matrix(y_test, y_pred_nb)\n",
    "conf_lr = confusion_matrix(y_test, y_pred_lr)\n",
    "print(\"Matriz de confusão Naive Bayes:\\n\", conf_nb)\n",
    "print(\"Matriz de confusão Regressão Logística:\\n\", conf_lr)\n",
    "\n",
    "# Plotando a matriz de confusão\n",
    "fig, ax = plt.subplots(1, 2, figsize=(10, 5))\n",
    "ax[0].matshow(conf_nb, cmap=plt.cm.Blues, alpha=0.5)\n",
    "ax[0].set_title(\"Naive Bayes\")\n",
    "ax[0].set_xlabel(\"Predicted\")\n",
    "ax[0].set_ylabel(\"Actual\")\n",
    "ax[0].set_xticks([0, 1, 2])\n",
    "ax[0].set_yticks([0, 1, 2])\n",
    "ax[0].set_xticklabels(iris.target_names)\n",
    "ax[0].set_yticklabels(iris.target_names)\n",
    "for i in range(3):\n",
    "    for j in range(3):\n",
    "        ax[0].text(j, i, str(conf_nb[i][j]), ha=\"center\", va=\"center\")\n",
    "\n",
    "ax[1].matshow(conf_lr, cmap=plt.cm.Blues, alpha=0.5)\n",
    "ax[1].set_title(\"Regressão Logística\")\n",
    "ax[1].set_xlabel(\"Predicted\")\n",
    "ax[1].set_ylabel(\"Actual\")  \n",
    "ax[1].set_xticks([0, 1, 2])\n",
    "ax[1].set_yticks([0, 1, 2])\n",
    "ax[1].set_xticklabels(iris.target_names)\n",
    "ax[1].set_yticklabels(iris.target_names)\n",
    "for i in range(3):\n",
    "    for j in range(3):\n",
    "        ax[1].text(j, i, str(conf_lr[i][j]), ha=\"center\", va=\"center\")\n",
    "\n",
    "plt.show()"
   ]
  },
  {
   "cell_type": "markdown",
   "id": "389482b9",
   "metadata": {},
   "source": [
    "Com essas ferramentas, podemos criar modelos de classificação usando Naive Bayes ou Regressão Logística, treiná-los em conjuntos de dados e avaliar seu desempenho usando várias métricas. Isso nos permite entender como esses modelos funcionam e como podemos usá-los em diferentes contextos para resolver problemas de classificação."
   ]
  },
  {
   "cell_type": "code",
   "execution_count": 8,
   "id": "6cbe27a7",
   "metadata": {
    "scrolled": true
   },
   "outputs": [
    {
     "name": "stdout",
     "output_type": "stream",
     "text": [
      "Acurácia Naive Bayes: 0.9555555555555556\n",
      "Acurácia Regressão Logística: 1.0\n",
      "Precisão Naive Bayes: 0.9555555555555556\n",
      "Precisão Regressão Logística: 1.0\n",
      "Revocação Naive Bayes: 0.9555555555555556\n",
      "Revocação Regressão Logística: 1.0\n",
      "Medida F1 Naive Bayes: 0.9555555555555556\n",
      "Medida F1 Regressão Logística: 1.0\n"
     ]
    }
   ],
   "source": [
    "# Acurácia\n",
    "print(\"Acurácia Naive Bayes:\", accuracy_score(y_test, y_pred_nb))\n",
    "print(\"Acurácia Regressão Logística:\", accuracy_score(y_test, y_pred_lr))\n",
    "\n",
    "# Precisão\n",
    "print(\"Precisão Naive Bayes:\", precision_score(y_test, y_pred_nb, average='weighted'))\n",
    "print(\"Precisão Regressão Logística:\", precision_score(y_test, y_pred_lr, average='weighted'))\n",
    "\n",
    "# Revocação\n",
    "print(\"Revocação Naive Bayes:\", recall_score(y_test, y_pred_nb, average='weighted'))\n",
    "print(\"Revocação Regressão Logística:\", recall_score(y_test, y_pred_lr, average='weighted'))\n",
    "\n",
    "# Medida F1\n",
    "print(\"Medida F1 Naive Bayes:\", f1_score(y_test, y_pred_nb, average='weighted'))\n",
    "print(\"Medida F1 Regressão Logística:\", f1_score(y_test, y_pred_lr, average='weighted'))"
   ]
  },
  {
   "cell_type": "code",
   "execution_count": 9,
   "id": "702944c3",
   "metadata": {},
   "outputs": [
    {
     "name": "stdout",
     "output_type": "stream",
     "text": [
      "Naive Bayes Classification Report:\n",
      "              precision    recall  f1-score   support\n",
      "\n",
      "           0       1.00      1.00      1.00        19\n",
      "           1       0.92      0.92      0.92        13\n",
      "           2       0.92      0.92      0.92        13\n",
      "\n",
      "    accuracy                           0.96        45\n",
      "   macro avg       0.95      0.95      0.95        45\n",
      "weighted avg       0.96      0.96      0.96        45\n",
      "\n",
      "Logistic Regression Classification Report:\n",
      "              precision    recall  f1-score   support\n",
      "\n",
      "           0       1.00      1.00      1.00        19\n",
      "           1       1.00      1.00      1.00        13\n",
      "           2       1.00      1.00      1.00        13\n",
      "\n",
      "    accuracy                           1.00        45\n",
      "   macro avg       1.00      1.00      1.00        45\n",
      "weighted avg       1.00      1.00      1.00        45\n",
      "\n"
     ]
    }
   ],
   "source": [
    "# Avaliar desempenho usando classification report\n",
    "print('Naive Bayes Classification Report:')\n",
    "print(classification_report(y_test, y_pred_nb))\n",
    "\n",
    "print('Logistic Regression Classification Report:')\n",
    "print(classification_report(y_test, y_pred_lr))"
   ]
  },
  {
   "cell_type": "code",
   "execution_count": 13,
   "id": "3df8429c",
   "metadata": {},
   "outputs": [
    {
     "ename": "TypeError",
     "evalue": "ufunc 'isfinite' not supported for the input types, and the inputs could not be safely coerced to any supported types according to the casting rule ''safe''",
     "output_type": "error",
     "traceback": [
      "\u001b[1;31m---------------------------------------------------------------------------\u001b[0m",
      "\u001b[1;31mTypeError\u001b[0m                                 Traceback (most recent call last)",
      "Cell \u001b[1;32mIn[13], line 10\u001b[0m\n\u001b[0;32m      8\u001b[0m ax\u001b[39m.\u001b[39mset_ylabel(\u001b[39m'\u001b[39m\u001b[39mrecall\u001b[39m\u001b[39m'\u001b[39m)\n\u001b[0;32m      9\u001b[0m ax\u001b[39m.\u001b[39mtext(\u001b[39m0.5\u001b[39m, \u001b[39m0.5\u001b[39m, \u001b[39mf\u001b[39m\u001b[39m'\u001b[39m\u001b[39mAUC: \u001b[39m\u001b[39m{\u001b[39;00mnp\u001b[39m.\u001b[39msum(roc_df\u001b[39m.\u001b[39mrecall[:\u001b[39m-\u001b[39m\u001b[39m1\u001b[39m] \u001b[39m*\u001b[39m np\u001b[39m.\u001b[39mdiff(\u001b[39m1\u001b[39m \u001b[39m-\u001b[39m roc_df\u001b[39m.\u001b[39mspecificity))\u001b[39m:\u001b[39;00m\u001b[39m.3f\u001b[39m\u001b[39m}\u001b[39;00m\u001b[39m'\u001b[39m)\n\u001b[1;32m---> 10\u001b[0m ax\u001b[39m.\u001b[39;49mfill_between(roc_df\u001b[39m.\u001b[39;49mspecificity, \u001b[39m0\u001b[39;49m, roc_df\u001b[39m.\u001b[39;49mrecall, alpha\u001b[39m=\u001b[39;49m\u001b[39m0.3\u001b[39;49m)\n\u001b[0;32m     13\u001b[0m plt\u001b[39m.\u001b[39mtight_layout()\n\u001b[0;32m     14\u001b[0m plt\u001b[39m.\u001b[39mshow()\n",
      "File \u001b[1;32mc:\\Users\\luana\\AppData\\Local\\Programs\\Python\\Python39\\lib\\site-packages\\matplotlib\\__init__.py:1423\u001b[0m, in \u001b[0;36m_preprocess_data.<locals>.inner\u001b[1;34m(ax, data, *args, **kwargs)\u001b[0m\n\u001b[0;32m   1420\u001b[0m \u001b[39m@functools\u001b[39m\u001b[39m.\u001b[39mwraps(func)\n\u001b[0;32m   1421\u001b[0m \u001b[39mdef\u001b[39;00m \u001b[39minner\u001b[39m(ax, \u001b[39m*\u001b[39margs, data\u001b[39m=\u001b[39m\u001b[39mNone\u001b[39;00m, \u001b[39m*\u001b[39m\u001b[39m*\u001b[39mkwargs):\n\u001b[0;32m   1422\u001b[0m     \u001b[39mif\u001b[39;00m data \u001b[39mis\u001b[39;00m \u001b[39mNone\u001b[39;00m:\n\u001b[1;32m-> 1423\u001b[0m         \u001b[39mreturn\u001b[39;00m func(ax, \u001b[39m*\u001b[39m\u001b[39mmap\u001b[39m(sanitize_sequence, args), \u001b[39m*\u001b[39m\u001b[39m*\u001b[39mkwargs)\n\u001b[0;32m   1425\u001b[0m     bound \u001b[39m=\u001b[39m new_sig\u001b[39m.\u001b[39mbind(ax, \u001b[39m*\u001b[39margs, \u001b[39m*\u001b[39m\u001b[39m*\u001b[39mkwargs)\n\u001b[0;32m   1426\u001b[0m     auto_label \u001b[39m=\u001b[39m (bound\u001b[39m.\u001b[39marguments\u001b[39m.\u001b[39mget(label_namer)\n\u001b[0;32m   1427\u001b[0m                   \u001b[39mor\u001b[39;00m bound\u001b[39m.\u001b[39mkwargs\u001b[39m.\u001b[39mget(label_namer))\n",
      "File \u001b[1;32mc:\\Users\\luana\\AppData\\Local\\Programs\\Python\\Python39\\lib\\site-packages\\matplotlib\\axes\\_axes.py:5367\u001b[0m, in \u001b[0;36mAxes.fill_between\u001b[1;34m(self, x, y1, y2, where, interpolate, step, **kwargs)\u001b[0m\n\u001b[0;32m   5365\u001b[0m \u001b[39mdef\u001b[39;00m \u001b[39mfill_between\u001b[39m(\u001b[39mself\u001b[39m, x, y1, y2\u001b[39m=\u001b[39m\u001b[39m0\u001b[39m, where\u001b[39m=\u001b[39m\u001b[39mNone\u001b[39;00m, interpolate\u001b[39m=\u001b[39m\u001b[39mFalse\u001b[39;00m,\n\u001b[0;32m   5366\u001b[0m                  step\u001b[39m=\u001b[39m\u001b[39mNone\u001b[39;00m, \u001b[39m*\u001b[39m\u001b[39m*\u001b[39mkwargs):\n\u001b[1;32m-> 5367\u001b[0m     \u001b[39mreturn\u001b[39;00m \u001b[39mself\u001b[39m\u001b[39m.\u001b[39m_fill_between_x_or_y(\n\u001b[0;32m   5368\u001b[0m         \u001b[39m\"\u001b[39m\u001b[39mx\u001b[39m\u001b[39m\"\u001b[39m, x, y1, y2,\n\u001b[0;32m   5369\u001b[0m         where\u001b[39m=\u001b[39mwhere, interpolate\u001b[39m=\u001b[39minterpolate, step\u001b[39m=\u001b[39mstep, \u001b[39m*\u001b[39m\u001b[39m*\u001b[39mkwargs)\n",
      "File \u001b[1;32mc:\\Users\\luana\\AppData\\Local\\Programs\\Python\\Python39\\lib\\site-packages\\matplotlib\\axes\\_axes.py:5272\u001b[0m, in \u001b[0;36mAxes._fill_between_x_or_y\u001b[1;34m(self, ind_dir, ind, dep1, dep2, where, interpolate, step, **kwargs)\u001b[0m\n\u001b[0;32m   5268\u001b[0m         kwargs[\u001b[39m\"\u001b[39m\u001b[39mfacecolor\u001b[39m\u001b[39m\"\u001b[39m] \u001b[39m=\u001b[39m \\\n\u001b[0;32m   5269\u001b[0m             \u001b[39mself\u001b[39m\u001b[39m.\u001b[39m_get_patches_for_fill\u001b[39m.\u001b[39mget_next_color()\n\u001b[0;32m   5271\u001b[0m \u001b[39m# Handle united data, such as dates\u001b[39;00m\n\u001b[1;32m-> 5272\u001b[0m ind, dep1, dep2 \u001b[39m=\u001b[39m \u001b[39mmap\u001b[39m(\n\u001b[0;32m   5273\u001b[0m     ma\u001b[39m.\u001b[39mmasked_invalid, \u001b[39mself\u001b[39m\u001b[39m.\u001b[39m_process_unit_info(\n\u001b[0;32m   5274\u001b[0m         [(ind_dir, ind), (dep_dir, dep1), (dep_dir, dep2)], kwargs))\n\u001b[0;32m   5276\u001b[0m \u001b[39mfor\u001b[39;00m name, array \u001b[39min\u001b[39;00m [\n\u001b[0;32m   5277\u001b[0m         (ind_dir, ind), (\u001b[39mf\u001b[39m\u001b[39m\"\u001b[39m\u001b[39m{\u001b[39;00mdep_dir\u001b[39m}\u001b[39;00m\u001b[39m1\u001b[39m\u001b[39m\"\u001b[39m, dep1), (\u001b[39mf\u001b[39m\u001b[39m\"\u001b[39m\u001b[39m{\u001b[39;00mdep_dir\u001b[39m}\u001b[39;00m\u001b[39m2\u001b[39m\u001b[39m\"\u001b[39m, dep2)]:\n\u001b[0;32m   5278\u001b[0m     \u001b[39mif\u001b[39;00m array\u001b[39m.\u001b[39mndim \u001b[39m>\u001b[39m \u001b[39m1\u001b[39m:\n",
      "File \u001b[1;32m~\\AppData\\Roaming\\Python\\Python39\\site-packages\\numpy\\ma\\core.py:2360\u001b[0m, in \u001b[0;36mmasked_invalid\u001b[1;34m(a, copy)\u001b[0m\n\u001b[0;32m   2332\u001b[0m \u001b[39mdef\u001b[39;00m \u001b[39mmasked_invalid\u001b[39m(a, copy\u001b[39m=\u001b[39m\u001b[39mTrue\u001b[39;00m):\n\u001b[0;32m   2333\u001b[0m     \u001b[39m\"\"\"\u001b[39;00m\n\u001b[0;32m   2334\u001b[0m \u001b[39m    Mask an array where invalid values occur (NaNs or infs).\u001b[39;00m\n\u001b[0;32m   2335\u001b[0m \n\u001b[1;32m   (...)\u001b[0m\n\u001b[0;32m   2357\u001b[0m \n\u001b[0;32m   2358\u001b[0m \u001b[39m    \"\"\"\u001b[39;00m\n\u001b[1;32m-> 2360\u001b[0m     \u001b[39mreturn\u001b[39;00m masked_where(\u001b[39m~\u001b[39m(np\u001b[39m.\u001b[39;49misfinite(getdata(a))), a, copy\u001b[39m=\u001b[39mcopy)\n",
      "\u001b[1;31mTypeError\u001b[0m: ufunc 'isfinite' not supported for the input types, and the inputs could not be safely coerced to any supported types according to the casting rule ''safe''"
     ]
    },
    {
     "data": {
      "image/png": "[encoded data removed]",
      "text/plain": [
       "<Figure size 400x400 with 1 Axes>"
      ]
     },
     "metadata": {},
     "output_type": "display_data"
    }
   ],
   "source": [
    "fpr, tpr, thresholds = roc_curve(y_test, nb.predict_proba(X_test)[:, 0], pos_label=0)\n",
    "roc_df = pd.DataFrame({'recall': tpr, 'specificity': 1 - fpr})\n",
    "\n",
    "ax = roc_df.plot(x='specificity', y='recall', figsize=(4, 4), legend=False)\n",
    "ax.set_ylim(0, 1)\n",
    "ax.set_xlim(1, 0)\n",
    "ax.set_xlabel('specificity')\n",
    "ax.set_ylabel('recall')\n",
    "ax.text(0.5, 0.5, f'AUC: {np.sum(roc_df.recall[:-1] * np.diff(1 - roc_df.specificity)):.3f}')\n",
    "ax.fill_between(roc_df.specificity, 0, roc_df.recall, alpha=0.3)\n",
    "\n",
    "\n",
    "plt.tight_layout()\n",
    "plt.show()"
   ]
  },
  {
   "cell_type": "code",
   "execution_count": null,
   "id": "692e3208",
   "metadata": {},
   "outputs": [
    {
     "ename": "TypeError",
     "evalue": "ufunc 'isfinite' not supported for the input types, and the inputs could not be safely coerced to any supported types according to the casting rule ''safe''",
     "output_type": "error",
     "traceback": [
      "\u001b[1;31m---------------------------------------------------------------------------\u001b[0m",
      "\u001b[1;31mTypeError\u001b[0m                                 Traceback (most recent call last)",
      "Cell \u001b[1;32mIn[8], line 10\u001b[0m\n\u001b[0;32m      8\u001b[0m ax\u001b[39m.\u001b[39mset_ylabel(\u001b[39m'\u001b[39m\u001b[39mrecall\u001b[39m\u001b[39m'\u001b[39m)\n\u001b[0;32m      9\u001b[0m ax\u001b[39m.\u001b[39mtext(\u001b[39m0.5\u001b[39m, \u001b[39m0.5\u001b[39m, \u001b[39mf\u001b[39m\u001b[39m'\u001b[39m\u001b[39mAUC: \u001b[39m\u001b[39m{\u001b[39;00mnp\u001b[39m.\u001b[39msum(roc_df\u001b[39m.\u001b[39mrecall[:\u001b[39m-\u001b[39m\u001b[39m1\u001b[39m] \u001b[39m*\u001b[39m np\u001b[39m.\u001b[39mdiff(\u001b[39m1\u001b[39m \u001b[39m-\u001b[39m roc_df\u001b[39m.\u001b[39mspecificity))\u001b[39m:\u001b[39;00m\u001b[39m.3f\u001b[39m\u001b[39m}\u001b[39;00m\u001b[39m'\u001b[39m)\n\u001b[1;32m---> 10\u001b[0m ax\u001b[39m.\u001b[39;49mfill_between(roc_df\u001b[39m.\u001b[39;49mspecificity, \u001b[39m0\u001b[39;49m, roc_df\u001b[39m.\u001b[39;49mrecall, alpha\u001b[39m=\u001b[39;49m\u001b[39m0.3\u001b[39;49m)\n\u001b[0;32m     13\u001b[0m plt\u001b[39m.\u001b[39mtight_layout()\n\u001b[0;32m     14\u001b[0m plt\u001b[39m.\u001b[39mshow()\n",
      "File \u001b[1;32mc:\\Users\\luana\\AppData\\Local\\Programs\\Python\\Python39\\lib\\site-packages\\matplotlib\\__init__.py:1423\u001b[0m, in \u001b[0;36m_preprocess_data.<locals>.inner\u001b[1;34m(ax, data, *args, **kwargs)\u001b[0m\n\u001b[0;32m   1420\u001b[0m \u001b[39m@functools\u001b[39m\u001b[39m.\u001b[39mwraps(func)\n\u001b[0;32m   1421\u001b[0m \u001b[39mdef\u001b[39;00m \u001b[39minner\u001b[39m(ax, \u001b[39m*\u001b[39margs, data\u001b[39m=\u001b[39m\u001b[39mNone\u001b[39;00m, \u001b[39m*\u001b[39m\u001b[39m*\u001b[39mkwargs):\n\u001b[0;32m   1422\u001b[0m     \u001b[39mif\u001b[39;00m data \u001b[39mis\u001b[39;00m \u001b[39mNone\u001b[39;00m:\n\u001b[1;32m-> 1423\u001b[0m         \u001b[39mreturn\u001b[39;00m func(ax, \u001b[39m*\u001b[39m\u001b[39mmap\u001b[39m(sanitize_sequence, args), \u001b[39m*\u001b[39m\u001b[39m*\u001b[39mkwargs)\n\u001b[0;32m   1425\u001b[0m     bound \u001b[39m=\u001b[39m new_sig\u001b[39m.\u001b[39mbind(ax, \u001b[39m*\u001b[39margs, \u001b[39m*\u001b[39m\u001b[39m*\u001b[39mkwargs)\n\u001b[0;32m   1426\u001b[0m     auto_label \u001b[39m=\u001b[39m (bound\u001b[39m.\u001b[39marguments\u001b[39m.\u001b[39mget(label_namer)\n\u001b[0;32m   1427\u001b[0m                   \u001b[39mor\u001b[39;00m bound\u001b[39m.\u001b[39mkwargs\u001b[39m.\u001b[39mget(label_namer))\n",
      "File \u001b[1;32mc:\\Users\\luana\\AppData\\Local\\Programs\\Python\\Python39\\lib\\site-packages\\matplotlib\\axes\\_axes.py:5367\u001b[0m, in \u001b[0;36mAxes.fill_between\u001b[1;34m(self, x, y1, y2, where, interpolate, step, **kwargs)\u001b[0m\n\u001b[0;32m   5365\u001b[0m \u001b[39mdef\u001b[39;00m \u001b[39mfill_between\u001b[39m(\u001b[39mself\u001b[39m, x, y1, y2\u001b[39m=\u001b[39m\u001b[39m0\u001b[39m, where\u001b[39m=\u001b[39m\u001b[39mNone\u001b[39;00m, interpolate\u001b[39m=\u001b[39m\u001b[39mFalse\u001b[39;00m,\n\u001b[0;32m   5366\u001b[0m                  step\u001b[39m=\u001b[39m\u001b[39mNone\u001b[39;00m, \u001b[39m*\u001b[39m\u001b[39m*\u001b[39mkwargs):\n\u001b[1;32m-> 5367\u001b[0m     \u001b[39mreturn\u001b[39;00m \u001b[39mself\u001b[39m\u001b[39m.\u001b[39m_fill_between_x_or_y(\n\u001b[0;32m   5368\u001b[0m         \u001b[39m\"\u001b[39m\u001b[39mx\u001b[39m\u001b[39m\"\u001b[39m, x, y1, y2,\n\u001b[0;32m   5369\u001b[0m         where\u001b[39m=\u001b[39mwhere, interpolate\u001b[39m=\u001b[39minterpolate, step\u001b[39m=\u001b[39mstep, \u001b[39m*\u001b[39m\u001b[39m*\u001b[39mkwargs)\n",
      "File \u001b[1;32mc:\\Users\\luana\\AppData\\Local\\Programs\\Python\\Python39\\lib\\site-packages\\matplotlib\\axes\\_axes.py:5272\u001b[0m, in \u001b[0;36mAxes._fill_between_x_or_y\u001b[1;34m(self, ind_dir, ind, dep1, dep2, where, interpolate, step, **kwargs)\u001b[0m\n\u001b[0;32m   5268\u001b[0m         kwargs[\u001b[39m\"\u001b[39m\u001b[39mfacecolor\u001b[39m\u001b[39m\"\u001b[39m] \u001b[39m=\u001b[39m \\\n\u001b[0;32m   5269\u001b[0m             \u001b[39mself\u001b[39m\u001b[39m.\u001b[39m_get_patches_for_fill\u001b[39m.\u001b[39mget_next_color()\n\u001b[0;32m   5271\u001b[0m \u001b[39m# Handle united data, such as dates\u001b[39;00m\n\u001b[1;32m-> 5272\u001b[0m ind, dep1, dep2 \u001b[39m=\u001b[39m \u001b[39mmap\u001b[39m(\n\u001b[0;32m   5273\u001b[0m     ma\u001b[39m.\u001b[39mmasked_invalid, \u001b[39mself\u001b[39m\u001b[39m.\u001b[39m_process_unit_info(\n\u001b[0;32m   5274\u001b[0m         [(ind_dir, ind), (dep_dir, dep1), (dep_dir, dep2)], kwargs))\n\u001b[0;32m   5276\u001b[0m \u001b[39mfor\u001b[39;00m name, array \u001b[39min\u001b[39;00m [\n\u001b[0;32m   5277\u001b[0m         (ind_dir, ind), (\u001b[39mf\u001b[39m\u001b[39m\"\u001b[39m\u001b[39m{\u001b[39;00mdep_dir\u001b[39m}\u001b[39;00m\u001b[39m1\u001b[39m\u001b[39m\"\u001b[39m, dep1), (\u001b[39mf\u001b[39m\u001b[39m\"\u001b[39m\u001b[39m{\u001b[39;00mdep_dir\u001b[39m}\u001b[39;00m\u001b[39m2\u001b[39m\u001b[39m\"\u001b[39m, dep2)]:\n\u001b[0;32m   5278\u001b[0m     \u001b[39mif\u001b[39;00m array\u001b[39m.\u001b[39mndim \u001b[39m>\u001b[39m \u001b[39m1\u001b[39m:\n",
      "File \u001b[1;32m~\\AppData\\Roaming\\Python\\Python39\\site-packages\\numpy\\ma\\core.py:2360\u001b[0m, in \u001b[0;36mmasked_invalid\u001b[1;34m(a, copy)\u001b[0m\n\u001b[0;32m   2332\u001b[0m \u001b[39mdef\u001b[39;00m \u001b[39mmasked_invalid\u001b[39m(a, copy\u001b[39m=\u001b[39m\u001b[39mTrue\u001b[39;00m):\n\u001b[0;32m   2333\u001b[0m     \u001b[39m\"\"\"\u001b[39;00m\n\u001b[0;32m   2334\u001b[0m \u001b[39m    Mask an array where invalid values occur (NaNs or infs).\u001b[39;00m\n\u001b[0;32m   2335\u001b[0m \n\u001b[1;32m   (...)\u001b[0m\n\u001b[0;32m   2357\u001b[0m \n\u001b[0;32m   2358\u001b[0m \u001b[39m    \"\"\"\u001b[39;00m\n\u001b[1;32m-> 2360\u001b[0m     \u001b[39mreturn\u001b[39;00m masked_where(\u001b[39m~\u001b[39m(np\u001b[39m.\u001b[39;49misfinite(getdata(a))), a, copy\u001b[39m=\u001b[39mcopy)\n",
      "\u001b[1;31mTypeError\u001b[0m: ufunc 'isfinite' not supported for the input types, and the inputs could not be safely coerced to any supported types according to the casting rule ''safe''"
     ]
    },
    {
     "data": {
      "image/png": "[encoded data removed]",
      "text/plain": [
       "<Figure size 400x400 with 1 Axes>"
      ]
     },
     "metadata": {},
     "output_type": "display_data"
    }
   ],
   "source": [
    "fpr, tpr, thresholds = roc_curve(y_test, lr.predict_proba(X_test)[:, 0], pos_label=0)\n",
    "roc_df = pd.DataFrame({'recall': tpr, 'specificity': 1 - fpr})\n",
    "\n",
    "ax = roc_df.plot(x='specificity', y='recall', figsize=(4, 4), legend=False)\n",
    "ax.set_ylim(0, 1)\n",
    "ax.set_xlim(1, 0)\n",
    "ax.set_xlabel('specificity')\n",
    "ax.set_ylabel('recall')\n",
    "ax.text(0.5, 0.5, f'AUC: {np.sum(roc_df.recall[:-1] * np.diff(1 - roc_df.specificity)):.3f}')\n",
    "ax.fill_between(roc_df.specificity, 0, roc_df.recall, alpha=0.3)\n",
    "\n",
    "\n",
    "plt.tight_layout()\n",
    "plt.show()"
   ]
  },
  {
   "cell_type": "markdown",
   "id": "39fd38f9",
   "metadata": {},
   "source": [
    "As métricas de avaliação de modelos de aprendizado de máquina são importantes para medir a qualidade das previsões. Nesta resposta, vou explicar as métricas de recall, precision, f1, auc-roc e accuracy e dar exemplos de sua aplicação em problemas com classes desbalanceadas e balanceadas.\n",
    "\n",
    "<strong>Recall (sensibilidade)</strong> é a proporção de exemplos positivos que são corretamente identificados pelo modelo como positivos. Em outras palavras, recall mede a capacidade do modelo de detectar todos os exemplos positivos. Por exemplo, em um problema de detecção de fraude, recall mede a proporção de transações fraudulentas que foram corretamente identificadas como fraudulentas pelo modelo.\n",
    "\n",
    "<strong>Precision</strong> é a proporção de exemplos classificados como positivos que são realmente positivos. Em outras palavras, precision mede a capacidade do modelo de identificar corretamente apenas os exemplos positivos. Por exemplo, em um problema de detecção de fraude, precision mede a proporção de transações identificadas como fraudulentas que realmente são fraudulentas.\n",
    "\n",
    "<strong>F1-score</strong> é uma média harmônica entre precision e recall, que fornece uma medida geral da qualidade do modelo. F1-score é útil para problemas com classes desbalanceadas, onde a taxa de verdadeiros positivos pode ser muito diferente da taxa de falsos positivos. Por exemplo, em um problema de detecção de fraude, se a taxa de transações fraudulentas for muito baixa, a precision pode ser alta, mas o recall pode ser muito baixo. Nesse caso, um alto valor de F1-score indica que o modelo está equilibrando bem a precisão e o recall.\n",
    "\n",
    "<strong>AUC-ROC</strong> é uma métrica que mede a capacidade do modelo de distinguir entre exemplos positivos e negativos em diferentes níveis de threshold. AUC-ROC é uma medida geral da qualidade do modelo e é especialmente útil para problemas com classes desbalanceadas, onde a taxa de verdadeiros positivos pode ser muito diferente da taxa de falsos positivos. AUC-ROC mede a área sob a curva ROC (Receiver Operating Characteristic), que representa a capacidade do modelo de distinguir entre exemplos positivos e negativos para diferentes valores de threshold.\n",
    "\n",
    "<strong>Accuracy (acurácia)</strong> é a proporção de exemplos classificados corretamente pelo modelo. Em outras palavras, accuracy mede a capacidade do modelo de classificar corretamente todos os exemplos, tanto positivos quanto negativos. Accuracy é útil para problemas com classes balanceadas, onde a taxa de exemplos positivos e negativos é semelhante."
   ]
  },
  {
   "cell_type": "markdown",
   "id": "4ed8b9e4",
   "metadata": {},
   "source": [
    "### Balanceamento de Classes"
   ]
  },
  {
   "cell_type": "markdown",
   "id": "ecff6d8a",
   "metadata": {},
   "source": [
    "Vamos supor que você esteja classificando fotos de gatos e cachorros em um conjunto de dados. Se você tem a mesma quantidade de fotos de gatos e cachorros, isso é chamado de classes balanceadas. Mas, se você tiver mais fotos de cachorros do que de gatos, isso é chamado de classes desbalanceadas.\n",
    "\n",
    "Quando as classes estão balanceadas, é mais fácil acertar a classificação, pois você tem a mesma quantidade de exemplos para cada classe. Mas quando as classes estão desbalanceadas, é mais difícil acertar a classificação da classe com menos exemplos.\n",
    "\n",
    "A acurácia é a métrica mais simples e ela mede a proporção de exemplos classificados corretamente em relação ao total de exemplos. Por exemplo, se você tem 100 fotos no total e acertou 80, sua acurácia é de 80%.\n",
    "\n",
    "Mas, a acurácia pode ser enganosa em classes desbalanceadas. Vamos supor que você tem 90 fotos de cachorros e 10 fotos de gatos. Se você classificar todas as fotos como cachorros, você terá uma acurácia de 90%. Isso parece ótimo, mas você na verdade classificou todos os gatos incorretamente. Então, em classes desbalanceadas, é importante olhar para outras métricas também.\n",
    "\n",
    "A precision mede a proporção de exemplos classificados como positivos que são realmente positivos. Por exemplo, se você classificou 20 fotos como cachorros, mas 5 eram gatos, sua precision é de 75%. A precision é importante em problemas onde a classe positiva é rara, como em detecção de fraudes em cartões de crédito.\n",
    "\n",
    "O recall mede a proporção de exemplos positivos que foram identificados corretamente. Por exemplo, se você tem 10 fotos de gatos e classificou corretamente 9, seu recall é de 90%. O recall é importante em problemas onde a classe positiva é importante, como em detecção de doenças.\n",
    "\n",
    "O f1-score é uma métrica que combina precision e recall, dando um peso igual para as duas. Ele é importante em problemas onde tanto a precisão quanto o recall são importantes.\n",
    "\n",
    "O auc-roc é uma métrica que mede a capacidade do modelo de distinguir entre exemplos positivos e negativos. Ele plota a curva roc, que é uma curva que mostra a taxa de verdadeiros positivos em relação à taxa de falsos positivos, à medida que o limiar de classificação é alterado. Quanto mais próximo o auc-roc estiver de 1, melhor o modelo está em distinguir entre as classes."
   ]
  },
  {
   "cell_type": "markdown",
   "id": "e2b06156",
   "metadata": {},
   "source": [
    "# Dividindo Treino/Teste/Validação"
   ]
  },
  {
   "cell_type": "markdown",
   "id": "c7cfb300",
   "metadata": {},
   "source": [
    "A divisão treino/teste/validação é uma técnica comum para avaliar modelos de aprendizado de máquina. Nessa técnica, os dados são divididos em três conjuntos distintos:\n",
    "\n",
    "    Conjunto de treinamento (training set): usado para treinar o modelo.\n",
    "    Conjunto de teste (test set): usado para avaliar o desempenho do modelo após o treinamento.\n",
    "    Conjunto de validação (validation set): usado para ajustar os hiperparâmetros do modelo e evitar o overfitting.\n",
    "\n",
    "A porcentagem de dados em cada conjunto pode variar de acordo com o tamanho da amostra e a complexidade do modelo. Em geral, a divisão mais comum é de 70% para treinamento, 20% para teste e 10% para validação.\n",
    "\n",
    "No entanto, em alguns casos, a amostra pode ser muito pequena e, portanto, uma divisão de 50% para treinamento e 50% para teste pode ser mais apropriada. Em outros casos, quando a amostra é muito grande, pode ser possível usar uma divisão menor para o conjunto de teste, como 10% ou 5%, e ainda obter resultados precisos.\n",
    "\n",
    "É importante ressaltar que a divisão deve ser feita de forma aleatória e estratificada, para garantir que as proporções de cada classe sejam mantidas em todos os conjuntos. Além disso, é recomendável realizar a validação cruzada, que é uma técnica para avaliar a estabilidade do modelo e garantir que ele não seja sensível à aleatoriedade da divisão. A validação cruzada é especialmente útil quando a amostra é pequena.\n",
    "\n",
    "Em resumo, a divisão treino/teste/validação é uma técnica importante para avaliar modelos de aprendizado de máquina. A proporção de dados em cada conjunto pode variar de acordo com o tamanho da amostra e a complexidade do modelo, e a divisão deve ser feita de forma aleatória e estratificada. A validação cruzada é recomendável para garantir a estabilidade do modelo."
   ]
  },
  {
   "cell_type": "markdown",
   "id": "93ae6a88",
   "metadata": {},
   "source": [
    "# Validação Cruzada"
   ]
  },
  {
   "cell_type": "markdown",
   "id": "09d9b4e3",
   "metadata": {},
   "source": [
    "A validação cruzada é uma técnica comum para avaliar a performance de modelos de aprendizado de máquina. A ideia básica da validação cruzada é dividir o conjunto de dados em vários subconjuntos (ou \"folds\") e realizar vários experimentos de treinamento e teste, onde cada subconjunto é usado uma vez como conjunto de teste e o restante como conjunto de treinamento. Ao final, os resultados de cada experimento são combinados para obter uma estimativa mais precisa da performance do modelo.\n",
    "\n",
    "Existem diferentes tipos de validação cruzada, sendo os mais comuns a validação cruzada k-fold, a validação cruzada leave-one-out e a validação cruzada estratificada. Na validação cruzada k-fold, o conjunto de dados é dividido em k subconjuntos (ou folds), onde cada subconjunto é usado uma vez como conjunto de teste e o restante como conjunto de treinamento. Na validação cruzada leave-one-out, cada amostra é usada uma vez como conjunto de teste e as restantes como conjunto de treinamento. Já na validação cruzada estratificada, os subconjuntos são criados de forma a garantir que as proporções das classes em cada subconjunto sejam as mesmas do conjunto de dados original.\n",
    "\n",
    "As métricas de avaliação mais comuns em problemas de classificação são precision, recall, f1-score e auc-roc. A precision é a proporção de exemplos classificados como positivos que são realmente positivos. O recall é a proporção de exemplos positivos que são corretamente identificados como positivos. O f1-score é uma média harmônica da precision e recall. Já o auc-roc é a área sob a curva ROC, que representa a capacidade do modelo de distinguir entre exemplos positivos e negativos para diferentes valores de threshold.\n",
    "\n",
    "Durante a validação cruzada, é possível obter os valores das métricas para cada experimento de treinamento e teste. Em seguida, os valores das métricas podem ser combinados para obter uma estimativa mais precisa da performance do modelo. Por exemplo, é possível calcular a média e o desvio padrão das métricas para todos os experimentos de treinamento e teste. Esses valores podem ser usados para avaliar a performance média do modelo e a variabilidade da performance em diferentes experimentos.\n",
    "\n",
    "Além disso, a validação cruzada pode ser usada para ajustar hiperparâmetros do modelo. Os hiperparâmetros são parâmetros do modelo que não são aprendidos durante o treinamento, mas sim definidos pelo usuário. Exemplos de hiperparâmetros incluem a taxa de aprendizado, o número de árvores em uma floresta aleatória e o tamanho do lote em uma rede neural.\n",
    "\n",
    "Ao usar a validação cruzada para ajustar hiperparâmetros, o conjunto de treinamento é dividido em vários subconjuntos. Em seguida, o modelo é treinado e testado em cada subconjunto, usando diferentes valores dos hiperparâmetros. Ao final, os resultados de cada experimento são combinados para obter uma estimativa da performance do modelo com diferentes valores dos hiperparâmetros."
   ]
  },
  {
   "cell_type": "markdown",
   "id": "2f114175",
   "metadata": {},
   "source": [
    "<strong>Primeiramente, vamos carregar o conjunto de dados:</strong>"
   ]
  },
  {
   "cell_type": "code",
   "execution_count": null,
   "id": "e7b252ad",
   "metadata": {},
   "outputs": [],
   "source": [
    "# Carregando o conjunto de dados\n",
    "iris = load_iris()\n",
    "X = iris.data\n",
    "y = iris.target"
   ]
  },
  {
   "cell_type": "markdown",
   "id": "b52b7744",
   "metadata": {},
   "source": [
    "Em seguida, vamos separar o conjunto de dados em treino, teste e validação, utilizando a função `train_test_split` do Scikit-learn. Vamos utilizar 20% do conjunto de dados para validação e 20% para teste:"
   ]
  },
  {
   "cell_type": "code",
   "execution_count": null,
   "id": "abcc4750",
   "metadata": {},
   "outputs": [],
   "source": [
    "# Separando em conjunto de treino e validação\n",
    "X_train, X_val_test, y_train, y_val_test = train_test_split(X, y, test_size=0.2, random_state=42)\n",
    "\n",
    "# Separando em conjunto de teste e validação\n",
    "X_test, X_val, y_test, y_val = train_test_split(X_val_test, y_val_test, test_size=0.5, random_state=42)"
   ]
  },
  {
   "cell_type": "markdown",
   "id": "dbc6da61",
   "metadata": {},
   "source": [
    "Agora, podemos aplicar a validação cruzada 10-fold para avaliar a performance dos modelos:"
   ]
  },
  {
   "cell_type": "code",
   "execution_count": null,
   "id": "398386cb",
   "metadata": {},
   "outputs": [],
   "source": [
    "# Criando os modelos\n",
    "nb = MultinomialNB()\n",
    "lr = LogisticRegression(max_iter=10000, random_state=1032)"
   ]
  },
  {
   "cell_type": "code",
   "execution_count": null,
   "id": "351eb2d6",
   "metadata": {},
   "outputs": [
    {
     "name": "stdout",
     "output_type": "stream",
     "text": [
      "Validação Cruzada 10-fold para Multinomial Naive Bayes: \n",
      "Acurácia média: 0.92\n",
      "Desvio padrão: 0.05\n",
      "\n",
      "\n",
      "Validação Cruzada 10-fold para Logistic Regression: \n",
      "Acurácia média: 0.95\n",
      "Desvio padrão: 0.08\n"
     ]
    }
   ],
   "source": [
    "# Aplicando validação cruzada 10-fold para o modelo Multinomial Naive Bayes\n",
    "scores_nb = cross_val_score(nb, X_train, y_train, cv=10)\n",
    "\n",
    "# Aplicando validação cruzada 10-fold para o modelo Logistic Regression\n",
    "scores_lr = cross_val_score(lr, X_train, y_train, cv=10)\n",
    "\n",
    "# Imprimindo os resultados\n",
    "print(\"Validação Cruzada 10-fold para Multinomial Naive Bayes: \")\n",
    "print(\"Acurácia média: {:.2f}\".format(scores_nb.mean()))\n",
    "print(\"Desvio padrão: {:.2f}\".format(scores_nb.std()))\n",
    "print(\"\\n\")\n",
    "print(\"Validação Cruzada 10-fold para Logistic Regression: \")\n",
    "print(\"Acurácia média: {:.2f}\".format(scores_lr.mean()))\n",
    "print(\"Desvio padrão: {:.2f}\".format(scores_lr.std()))"
   ]
  },
  {
   "cell_type": "markdown",
   "id": "cd03e3cb",
   "metadata": {},
   "source": [
    "Por fim, podemos ajustar os modelos com o conjunto de treino e avaliar a performance no conjunto de teste:"
   ]
  },
  {
   "cell_type": "code",
   "execution_count": null,
   "id": "11a6adc9",
   "metadata": {},
   "outputs": [
    {
     "name": "stdout",
     "output_type": "stream",
     "text": [
      "Métricas de classificação para Multinomial Naive Bayes no conjunto de teste: \n",
      "              precision    recall  f1-score   support\n",
      "\n",
      "           0       1.00      1.00      1.00         5\n",
      "           1       0.60      1.00      0.75         3\n",
      "           2       1.00      0.71      0.83         7\n",
      "\n",
      "    accuracy                           0.87        15\n",
      "   macro avg       0.87      0.90      0.86        15\n",
      "weighted avg       0.92      0.87      0.87        15\n",
      "\n",
      "\n",
      "\n",
      "Métricas de classificação para Logistic Regression no conjunto de teste: \n",
      "              precision    recall  f1-score   support\n",
      "\n",
      "           0       1.00      1.00      1.00         5\n",
      "           1       1.00      1.00      1.00         3\n",
      "           2       1.00      1.00      1.00         7\n",
      "\n",
      "    accuracy                           1.00        15\n",
      "   macro avg       1.00      1.00      1.00        15\n",
      "weighted avg       1.00      1.00      1.00        15\n",
      "\n"
     ]
    }
   ],
   "source": [
    "# Treinando e ajustando os modelos com o conjunto de treino\n",
    "nb.fit(X_train, y_train)\n",
    "lr.fit(X_train, y_train)\n",
    "\n",
    "# Fazendo as previsões nos conjuntos de teste e validação\n",
    "y_pred_test_nb = nb.predict(X_test)\n",
    "y_pred_test_lr = lr.predict(X_test)\n",
    "y_pred_val_nb = nb.predict(X_val)\n",
    "y_pred_val_lr = lr.predict(X_val)\n",
    "\n",
    "# Imprimindo as métricas de classificação para os modelos no conjunto de teste\n",
    "print(\"Métricas de classificação para Multinomial Naive Bayes no conjunto de teste: \")\n",
    "print(classification_report(y_test, y_pred_test_nb))\n",
    "print(\"\\n\")\n",
    "print(\"Métricas de classificação para Logistic Regression no conjunto de teste: \")\n",
    "print(classification_report(y_test, y_pred_test_lr))"
   ]
  },
  {
   "cell_type": "code",
   "execution_count": null,
   "id": "55473440",
   "metadata": {},
   "outputs": [],
   "source": [
    "fpr, tpr, thresholds = roc_curve(y_test, nb.predict_proba(X_test)[:, 0], pos_label=0)\n",
    "roc_df = pd.DataFrame({'recall': tpr, 'specificity': 1 - fpr})\n",
    "\n",
    "ax = roc_df.plot(x='specificity', y='recall', figsize=(4, 4), legend=False)\n",
    "ax.set_ylim(0, 1)\n",
    "ax.set_xlim(1, 0)\n",
    "ax.set_xlabel('specificity')\n",
    "ax.set_ylabel('recall')\n",
    "ax.text(0.5, 0.5, f'AUC: {np.sum(roc_df.recall[:-1] * np.diff(1 - roc_df.specificity)):.3f}')\n",
    "ax.fill_between(roc_df.specificity, 0, roc_df.recall, alpha=0.3)\n",
    "\n",
    "\n",
    "plt.tight_layout()\n",
    "plt.show()"
   ]
  },
  {
   "cell_type": "code",
   "execution_count": null,
   "id": "35067214",
   "metadata": {},
   "outputs": [],
   "source": [
    "fpr, tpr, thresholds = roc_curve(y_test, lr.predict_proba(X_test)[:, 0], pos_label=0)\n",
    "roc_df = pd.DataFrame({'recall': tpr, 'specificity': 1 - fpr})\n",
    "\n",
    "ax = roc_df.plot(x='specificity', y='recall', figsize=(4, 4), legend=False)\n",
    "ax.set_ylim(0, 1)\n",
    "ax.set_xlim(1, 0)\n",
    "ax.set_xlabel('specificity')\n",
    "ax.set_ylabel('recall')\n",
    "ax.text(0.5, 0.5, f'AUC: {np.sum(roc_df.recall[:-1] * np.diff(1 - roc_df.specificity)):.3f}')\n",
    "ax.fill_between(roc_df.specificity, 0, roc_df.recall, alpha=0.3)\n",
    "\n",
    "\n",
    "plt.tight_layout()\n",
    "plt.show()"
   ]
  },
  {
   "cell_type": "markdown",
   "id": "d73d80d3",
   "metadata": {},
   "source": [
    "# Exercícios"
   ]
  },
  {
   "cell_type": "markdown",
   "id": "79b7f1a7",
   "metadata": {},
   "source": [
    "Seguem abaixo 10 exercícios para praticar a criação de modelos de classificação usando os datasets do sklearn.datasets com MultinomialNB e LogisticRegression:\n",
    "\n",
    "1. Dataset: Breast Cancer Wisconsin (Diagnostic)\n",
    "- Target: variável alvo é a diagnosis (M = maligno, B = benigno)\n",
    "- Descrição: O dataset contém informações de características dos núcleos celulares presentes em imagens digitalizadas de massas mamárias. O objetivo é prever se a massa é maligna ou benigna.\n",
    "- Exercício: Crie um modelo de classificação para prever a variável alvo utilizando MultinomialNB e avalie o desempenho usando validação cruzada com 10 folds. Depois, repita o processo utilizando LogisticRegression.\n",
    "\n",
    "2. Dataset: Iris\n",
    "- Target: variável alvo é a espécie da flor (setosa, versicolor, virginica)\n",
    "- Descrição: O dataset contém informações de medidas da largura e comprimento das pétalas e sépalas de 3 espécies de flores Iris. O objetivo é prever a espécie a partir das medidas.\n",
    "- Exercício: Crie um modelo de classificação para prever a variável alvo utilizando MultinomialNB e avalie o desempenho usando validação cruzada com 5 folds. Depois, repita o processo utilizando LogisticRegression.\n",
    "\n",
    "3. Dataset: Wine\n",
    "- Target: variável alvo é a classe do vinho (1, 2 ou 3)\n",
    "- Descrição: O dataset contém informações de análises químicas de vinhos produzidos em uma mesma região da Itália. O objetivo é prever a classe do vinho a partir das análises.\n",
    "- Exercício: Crie um modelo de classificação para prever a variável alvo utilizando MultinomialNB e avalie o desempenho usando validação cruzada com 10 folds. Depois, repita o processo utilizando LogisticRegression.\n",
    "\n",
    "4. Dataset: Diabetes\n",
    "- Target: variável alvo é a ocorrência de diabetes (0 = não, 1 = sim)\n",
    "- Descrição: O dataset contém informações de 8 variáveis de diagnóstico médico de pacientes mulheres da tribo Pima. O objetivo é prever se a paciente tem diabetes a partir das informações.\n",
    "- Exercício: Crie um modelo de classificação para prever a variável alvo utilizando MultinomialNB e avalie o desempenho usando validação cruzada com 5 folds. Depois, repita o processo utilizando LogisticRegression.\n",
    "\n",
    "5. Dataset: Digits\n",
    "- Target: variável alvo é o dígito desenhado (0 a 9)\n",
    "- Descrição: O dataset contém imagens digitalizadas de dígitos escritos à mão. O objetivo é prever qual dígito foi escrito.\n",
    "- Exercício: Crie um modelo de classificação para prever a variável alvo utilizando MultinomialNB e avalie o desempenho usando validação cruzada com 3 folds. Depois, repita o processo utilizando LogisticRegression."
   ]
  }
 ],
 "metadata": {
  "kernelspec": {
   "display_name": "Python 3 (ipykernel)",
   "language": "python",
   "name": "python3"
  },
  "language_info": {
   "codemirror_mode": {
    "name": "ipython",
    "version": 3
   },
   "file_extension": ".py",
   "mimetype": "text/x-python",
   "name": "python",
   "nbconvert_exporter": "python",
   "pygments_lexer": "ipython3",
   "version": "3.9.6"
  }
 },
 "nbformat": 4,
 "nbformat_minor": 5
}
