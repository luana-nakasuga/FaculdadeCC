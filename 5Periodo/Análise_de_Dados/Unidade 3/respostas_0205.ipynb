{
 "cells": [
  {
   "cell_type": "code",
   "execution_count": 35,
   "metadata": {},
   "outputs": [],
   "source": [
    "import pandas as pd\n",
    "import numpy as np\n",
    "from sklearn.datasets import load_breast_cancer\n",
    "from sklearn.model_selection import train_test_split, cross_val_score\n",
    "from sklearn.naive_bayes import MultinomialNB\n",
    "from sklearn.linear_model import LogisticRegression\n",
    "from sklearn.metrics import accuracy_score, precision_score, recall_score, f1_score, confusion_matrix, classification_report, roc_curve\n",
    "import matplotlib.pyplot as plt"
   ]
  },
  {
   "attachments": {},
   "cell_type": "markdown",
   "metadata": {},
   "source": [
    "1. Dataset: Breast Cancer Wisconsin (Diagnostic)\n",
    "- Target: variável alvo é a diagnosis (M = maligno, B = benigno)\n",
    "- Descrição: O dataset contém informações de características dos núcleos celulares presentes em imagens digitalizadas de massas mamárias. O objetivo é prever se a massa é maligna ou benigna.\n",
    "- Exercício: Crie um modelo de classificação para prever a variável alvo utilizando MultinomialNB e avalie o desempenho usando validação cruzada com 10 folds. Depois, repita o processo utilizando LogisticRegression."
   ]
  },
  {
   "cell_type": "code",
   "execution_count": 36,
   "metadata": {},
   "outputs": [],
   "source": [
    "breast_cancer = load_breast_cancer()\n",
    "X = breast_cancer.data\n",
    "y = breast_cancer.target\n",
    "X_train, X_test, y_train, y_test = train_test_split(X, y, test_size=0.3, random_state=42)"
   ]
  },
  {
   "cell_type": "code",
   "execution_count": 37,
   "metadata": {},
   "outputs": [],
   "source": [
    "# Treinando o modelo Naive Bayes\n",
    "nb = MultinomialNB()\n",
    "nb.fit(X_train, y_train)\n",
    "y_pred_nb = nb.predict(X_test)"
   ]
  },
  {
   "cell_type": "code",
   "execution_count": 38,
   "metadata": {},
   "outputs": [
    {
     "name": "stderr",
     "output_type": "stream",
     "text": [
      "c:\\Users\\luana\\AppData\\Local\\Programs\\Python\\Python39\\lib\\site-packages\\sklearn\\linear_model\\_logistic.py:458: ConvergenceWarning: lbfgs failed to converge (status=1):\n",
      "STOP: TOTAL NO. of ITERATIONS REACHED LIMIT.\n",
      "\n",
      "Increase the number of iterations (max_iter) or scale the data as shown in:\n",
      "    https://scikit-learn.org/stable/modules/preprocessing.html\n",
      "Please also refer to the documentation for alternative solver options:\n",
      "    https://scikit-learn.org/stable/modules/linear_model.html#logistic-regression\n",
      "  n_iter_i = _check_optimize_result(\n"
     ]
    }
   ],
   "source": [
    "# Treinando o modelo Regressão Logística\n",
    "lr = LogisticRegression(random_state=1032)\n",
    "lr.fit(X_train, y_train)\n",
    "y_pred_lr = lr.predict(X_test)"
   ]
  },
  {
   "cell_type": "code",
   "execution_count": 39,
   "metadata": {},
   "outputs": [
    {
     "name": "stdout",
     "output_type": "stream",
     "text": [
      "Matriz de confusão Naive Bayes:\n",
      " [[ 50  13]\n",
      " [  2 106]]\n",
      "Matriz de confusão Regressão Logística:\n",
      " [[ 59   4]\n",
      " [  1 107]]\n"
     ]
    }
   ],
   "source": [
    "# Matriz de confusão\n",
    "conf_nb = confusion_matrix(y_test, y_pred_nb)\n",
    "conf_lr = confusion_matrix(y_test, y_pred_lr)\n",
    "print(\"Matriz de confusão Naive Bayes:\\n\", conf_nb)\n",
    "print(\"Matriz de confusão Regressão Logística:\\n\", conf_lr)"
   ]
  },
  {
   "cell_type": "code",
   "execution_count": 40,
   "metadata": {},
   "outputs": [
    {
     "data": {
      "image/png": "[encoded data removed]",
      "text/plain": [
       "<Figure size 1000x500 with 2 Axes>"
      ]
     },
     "metadata": {},
     "output_type": "display_data"
    }
   ],
   "source": [
    "# Plotando a matriz de confusão\n",
    "fig, ax = plt.subplots(1, 2, figsize=(10, 5))\n",
    "ax[0].matshow(conf_nb, cmap=plt.cm.Blues, alpha=0.5)\n",
    "ax[0].set_title(\"Naive Bayes\")\n",
    "ax[0].set_xlabel(\"Predicted\")\n",
    "ax[0].set_ylabel(\"Actual\")\n",
    "ax[0].set_xticks([0, 1])\n",
    "ax[0].set_yticks([0, 1])\n",
    "ax[0].set_xticklabels(breast_cancer.target_names)\n",
    "ax[0].set_yticklabels(breast_cancer.target_names)\n",
    "for i in range(2):\n",
    "    for j in range(2):\n",
    "        ax[0].text(j, i, str(conf_nb[i][j]), ha=\"center\", va=\"center\")\n",
    "\n",
    "ax[1].matshow(conf_lr, cmap=plt.cm.Blues, alpha=0.5)\n",
    "ax[1].set_title(\"Regressão Logística\")\n",
    "ax[1].set_xlabel(\"Predicted\")\n",
    "ax[1].set_ylabel(\"Actual\")\n",
    "ax[1].set_xticks([0, 1])\n",
    "ax[1].set_yticks([0, 1])\n",
    "ax[1].set_xticklabels(breast_cancer.target_names)\n",
    "ax[1].set_yticklabels(breast_cancer.target_names)\n",
    "for i in range(2):\n",
    "    for j in range(2):\n",
    "        ax[1].text(j, i, str(conf_lr[i][j]), ha=\"center\", va=\"center\")\n",
    "\n",
    "plt.show()"
   ]
  },
  {
   "cell_type": "code",
   "execution_count": 41,
   "metadata": {},
   "outputs": [
    {
     "name": "stdout",
     "output_type": "stream",
     "text": [
      "Acurácia Naive Bayes: 0.9122807017543859\n",
      "Acurácia Regressão Logística: 0.9707602339181286\n"
     ]
    }
   ],
   "source": [
    "# Acurácia\n",
    "print(\"Acurácia Naive Bayes:\", accuracy_score(y_test, y_pred_nb))\n",
    "print(\"Acurácia Regressão Logística:\", accuracy_score(y_test, y_pred_lr))"
   ]
  },
  {
   "cell_type": "code",
   "execution_count": 42,
   "metadata": {},
   "outputs": [
    {
     "name": "stdout",
     "output_type": "stream",
     "text": [
      "Precisão Naive Bayes: 0.9168339400537542\n",
      "Precisão Regressão Logística: 0.9711000474158369\n"
     ]
    }
   ],
   "source": [
    "# Precisão\n",
    "print(\"Precisão Naive Bayes:\", precision_score(y_test, y_pred_nb, average='weighted'))\n",
    "print(\"Precisão Regressão Logística:\", precision_score(y_test, y_pred_lr, average='weighted'))"
   ]
  },
  {
   "cell_type": "code",
   "execution_count": 43,
   "metadata": {},
   "outputs": [
    {
     "name": "stdout",
     "output_type": "stream",
     "text": [
      "Revocação Naive Bayes: 0.9122807017543859\n",
      "Revocação Regressão Logística: 0.9707602339181286\n"
     ]
    }
   ],
   "source": [
    "# Revocação\n",
    "print(\"Revocação Naive Bayes:\", recall_score(y_test, y_pred_nb, average='weighted'))\n",
    "print(\"Revocação Regressão Logística:\", recall_score(y_test, y_pred_lr, average='weighted'))"
   ]
  },
  {
   "cell_type": "code",
   "execution_count": 44,
   "metadata": {},
   "outputs": [
    {
     "name": "stdout",
     "output_type": "stream",
     "text": [
      "Medida F1 Naive Bayes: 0.9102107884152059\n",
      "Medida F1 Regressão Logística: 0.970603923775359\n"
     ]
    }
   ],
   "source": [
    "# Medida F1\n",
    "print(\"Medida F1 Naive Bayes:\", f1_score(y_test, y_pred_nb, average='weighted'))\n",
    "print(\"Medida F1 Regressão Logística:\", f1_score(y_test, y_pred_lr, average='weighted'))"
   ]
  },
  {
   "cell_type": "code",
   "execution_count": 45,
   "metadata": {},
   "outputs": [
    {
     "name": "stdout",
     "output_type": "stream",
     "text": [
      "Naive Bayes Classification Report:\n",
      "              precision    recall  f1-score   support\n",
      "\n",
      "           0       0.96      0.79      0.87        63\n",
      "           1       0.89      0.98      0.93       108\n",
      "\n",
      "    accuracy                           0.91       171\n",
      "   macro avg       0.93      0.89      0.90       171\n",
      "weighted avg       0.92      0.91      0.91       171\n",
      "\n",
      "Logistic Regression Classification Report:\n",
      "              precision    recall  f1-score   support\n",
      "\n",
      "           0       0.98      0.94      0.96        63\n",
      "           1       0.96      0.99      0.98       108\n",
      "\n",
      "    accuracy                           0.97       171\n",
      "   macro avg       0.97      0.96      0.97       171\n",
      "weighted avg       0.97      0.97      0.97       171\n",
      "\n"
     ]
    }
   ],
   "source": [
    "# Avaliar desempenho usando classification report\n",
    "print('Naive Bayes Classification Report:')\n",
    "print(classification_report(y_test, y_pred_nb))\n",
    "\n",
    "print('Logistic Regression Classification Report:')\n",
    "print(classification_report(y_test, y_pred_lr))"
   ]
  },
  {
   "cell_type": "code",
   "execution_count": 46,
   "metadata": {},
   "outputs": [],
   "source": [
    "# Separando em conjunto de treino e validação\n",
    "X_train, X_val_test, y_train, y_val_test = train_test_split(X, y, test_size=0.2, random_state=42)\n",
    "\n",
    "# Separando em conjunto de teste e validação\n",
    "X_test, X_val, y_test, y_val = train_test_split(X_val_test, y_val_test, test_size=0.5, random_state=42)"
   ]
  },
  {
   "cell_type": "code",
   "execution_count": 47,
   "metadata": {},
   "outputs": [],
   "source": [
    "# Criando os modelos\n",
    "nb = MultinomialNB()\n",
    "lr = LogisticRegression(max_iter=10000, random_state=1032)"
   ]
  },
  {
   "cell_type": "code",
   "execution_count": 48,
   "metadata": {},
   "outputs": [
    {
     "name": "stdout",
     "output_type": "stream",
     "text": [
      "Validação Cruzada 10-fold para Multinomial Naive Bayes: \n",
      "Acurácia média: 0.88\n",
      "Desvio padrão: 0.05\n",
      "\n",
      "\n",
      "Validação Cruzada 10-fold para Logistic Regression: \n",
      "Acurácia média: 0.95\n",
      "Desvio padrão: 0.04\n"
     ]
    }
   ],
   "source": [
    "# Aplicando validação cruzada 10-fold para o modelo Multinomial Naive Bayes\n",
    "scores_nb = cross_val_score(nb, X_train, y_train, cv=10)\n",
    "\n",
    "# Aplicando validação cruzada 10-fold para o modelo Logistic Regression\n",
    "scores_lr = cross_val_score(lr, X_train, y_train, cv=10)\n",
    "\n",
    "# Imprimindo os resultados\n",
    "print(\"Validação Cruzada 10-fold para Multinomial Naive Bayes: \")\n",
    "print(\"Acurácia média: {:.2f}\".format(scores_nb.mean()))\n",
    "print(\"Desvio padrão: {:.2f}\".format(scores_nb.std()))\n",
    "print(\"\\n\")\n",
    "print(\"Validação Cruzada 10-fold para Logistic Regression: \")\n",
    "print(\"Acurácia média: {:.2f}\".format(scores_lr.mean()))\n",
    "print(\"Desvio padrão: {:.2f}\".format(scores_lr.std()))"
   ]
  },
  {
   "cell_type": "code",
   "execution_count": 49,
   "metadata": {},
   "outputs": [
    {
     "name": "stdout",
     "output_type": "stream",
     "text": [
      "Métricas de classificação para Multinomial Naive Bayes no conjunto de teste: \n",
      "              precision    recall  f1-score   support\n",
      "\n",
      "           0       1.00      0.78      0.88        27\n",
      "           1       0.83      1.00      0.91        30\n",
      "\n",
      "    accuracy                           0.89        57\n",
      "   macro avg       0.92      0.89      0.89        57\n",
      "weighted avg       0.91      0.89      0.89        57\n",
      "\n",
      "\n",
      "\n",
      "Métricas de classificação para Logistic Regression no conjunto de teste: \n",
      "              precision    recall  f1-score   support\n",
      "\n",
      "           0       1.00      0.85      0.92        27\n",
      "           1       0.88      1.00      0.94        30\n",
      "\n",
      "    accuracy                           0.93        57\n",
      "   macro avg       0.94      0.93      0.93        57\n",
      "weighted avg       0.94      0.93      0.93        57\n",
      "\n"
     ]
    }
   ],
   "source": [
    "# Treinando e ajustando os modelos com o conjunto de treino\n",
    "nb.fit(X_train, y_train)\n",
    "lr.fit(X_train, y_train)\n",
    "\n",
    "# Fazendo as previsões nos conjuntos de teste e validação\n",
    "y_pred_test_nb = nb.predict(X_test)\n",
    "y_pred_test_lr = lr.predict(X_test)\n",
    "y_pred_val_nb = nb.predict(X_val)\n",
    "y_pred_val_lr = lr.predict(X_val)\n",
    "\n",
    "# Imprimindo as métricas de classificação para os modelos no conjunto de teste\n",
    "print(\"Métricas de classificação para Multinomial Naive Bayes no conjunto de teste: \")\n",
    "print(classification_report(y_test, y_pred_test_nb))\n",
    "print(\"\\n\")\n",
    "print(\"Métricas de classificação para Logistic Regression no conjunto de teste: \")\n",
    "print(classification_report(y_test, y_pred_test_lr))"
   ]
  },
  {
   "cell_type": "code",
   "execution_count": null,
   "metadata": {},
   "outputs": [],
   "source": []
  }
 ],
 "metadata": {
  "kernelspec": {
   "display_name": "Python 3",
   "language": "python",
   "name": "python3"
  },
  "language_info": {
   "codemirror_mode": {
    "name": "ipython",
    "version": 3
   },
   "file_extension": ".py",
   "mimetype": "text/x-python",
   "name": "python",
   "nbconvert_exporter": "python",
   "pygments_lexer": "ipython3",
   "version": "3.9.6"
  },
  "orig_nbformat": 4
 },
 "nbformat": 4,
 "nbformat_minor": 2
}
