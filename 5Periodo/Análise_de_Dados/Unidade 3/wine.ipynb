{
 "cells": [
  {
   "cell_type": "markdown",
   "id": "386cb8fc",
   "metadata": {},
   "source": [
    "3. Dataset: Wine\n",
    "- Target: variável alvo é a classe do vinho (1, 2 ou 3)\n",
    "- Descrição: O dataset contém informações de análises químicas de vinhos produzidos em uma mesma região da Itália. O objetivo é prever a classe do vinho a partir das análises.\n",
    "- Exercício: Crie um modelo de classificação para prever a variável alvo utilizando MultinomialNB e avalie o desempenho usando validação cruzada com 10 folds. Depois, repita o processo utilizando LogisticRegression."
   ]
  },
  {
   "cell_type": "code",
   "execution_count": 1,
   "id": "3f046548",
   "metadata": {},
   "outputs": [],
   "source": [
    "import pandas as pd\n",
    "import numpy as np\n",
    "from sklearn.datasets import load_wine\n",
    "from sklearn.model_selection import train_test_split, cross_val_score\n",
    "from sklearn.naive_bayes import MultinomialNB\n",
    "from sklearn.linear_model import LogisticRegression\n",
    "from sklearn.metrics import accuracy_score, precision_score, recall_score, f1_score, confusion_matrix, classification_report, roc_curve\n",
    "import matplotlib.pyplot as plt"
   ]
  },
  {
   "cell_type": "code",
   "execution_count": 2,
   "id": "81340830",
   "metadata": {},
   "outputs": [],
   "source": [
    "wine = load_wine()\n",
    "X = wine.data\n",
    "y = wine.target"
   ]
  },
  {
   "cell_type": "code",
   "execution_count": 3,
   "id": "bf22be89",
   "metadata": {},
   "outputs": [],
   "source": [
    "# Separando em conjunto de treino e validação\n",
    "X_train, X_val_test, y_train, y_val_test = train_test_split(X, y, test_size=0.2, random_state=42)\n",
    "\n",
    "# Separando em conjunto de teste e validação\n",
    "X_test, X_val, y_test, y_val = train_test_split(X_val_test, y_val_test, test_size=0.5, random_state=42)"
   ]
  },
  {
   "cell_type": "code",
   "execution_count": 4,
   "id": "738a3b30",
   "metadata": {},
   "outputs": [],
   "source": [
    "# Criando os modelos\n",
    "nb = MultinomialNB()\n",
    "lr = LogisticRegression(max_iter=10000, random_state=1032)"
   ]
  },
  {
   "cell_type": "code",
   "execution_count": 5,
   "id": "cb11bec3",
   "metadata": {},
   "outputs": [
    {
     "name": "stdout",
     "output_type": "stream",
     "text": [
      "Validação Cruzada 10-fold para Multinomial Naive Bayes: \n",
      "Acurácia média: 0.84\n",
      "Desvio padrão: 0.09\n",
      "\n",
      "\n",
      "Validação Cruzada 10-fold para Logistic Regression: \n",
      "Acurácia média: 0.94\n",
      "Desvio padrão: 0.05\n"
     ]
    }
   ],
   "source": [
    "# Aplicando validação cruzada 10-fold para o modelo Multinomial Naive Bayes\n",
    "scores_nb = cross_val_score(nb, X_train, y_train, cv=10)\n",
    "\n",
    "# Aplicando validação cruzada 10-fold para o modelo Logistic Regression\n",
    "scores_lr = cross_val_score(lr, X_train, y_train, cv=10)\n",
    "\n",
    "# Imprimindo os resultados\n",
    "print(\"Validação Cruzada 10-fold para Multinomial Naive Bayes: \")\n",
    "print(\"Acurácia média: {:.2f}\".format(scores_nb.mean()))\n",
    "print(\"Desvio padrão: {:.2f}\".format(scores_nb.std()))\n",
    "print(\"\\n\")\n",
    "print(\"Validação Cruzada 10-fold para Logistic Regression: \")\n",
    "print(\"Acurácia média: {:.2f}\".format(scores_lr.mean()))\n",
    "print(\"Desvio padrão: {:.2f}\".format(scores_lr.std()))"
   ]
  },
  {
   "cell_type": "code",
   "execution_count": 6,
   "id": "9384b838",
   "metadata": {},
   "outputs": [
    {
     "name": "stdout",
     "output_type": "stream",
     "text": [
      "Métricas de classificação para Multinomial Naive Bayes no conjunto de teste: \n",
      "              precision    recall  f1-score   support\n",
      "\n",
      "           0       0.88      1.00      0.93         7\n",
      "           1       0.75      0.75      0.75         4\n",
      "           2       0.83      0.71      0.77         7\n",
      "\n",
      "    accuracy                           0.83        18\n",
      "   macro avg       0.82      0.82      0.82        18\n",
      "weighted avg       0.83      0.83      0.83        18\n",
      "\n",
      "\n",
      "\n",
      "Métricas de classificação para Logistic Regression no conjunto de teste: \n",
      "              precision    recall  f1-score   support\n",
      "\n",
      "           0       1.00      1.00      1.00         7\n",
      "           1       1.00      1.00      1.00         4\n",
      "           2       1.00      1.00      1.00         7\n",
      "\n",
      "    accuracy                           1.00        18\n",
      "   macro avg       1.00      1.00      1.00        18\n",
      "weighted avg       1.00      1.00      1.00        18\n",
      "\n"
     ]
    }
   ],
   "source": [
    "# Treinando e ajustando os modelos com o conjunto de treino\n",
    "nb.fit(X_train, y_train)\n",
    "lr.fit(X_train, y_train)\n",
    "\n",
    "# Fazendo as previsões nos conjuntos de teste e validação\n",
    "y_pred_test_nb = nb.predict(X_test)\n",
    "y_pred_test_lr = lr.predict(X_test)\n",
    "y_pred_val_nb = nb.predict(X_val)\n",
    "y_pred_val_lr = lr.predict(X_val)\n",
    "\n",
    "# Imprimindo as métricas de classificação para os modelos no conjunto de teste\n",
    "print(\"Métricas de classificação para Multinomial Naive Bayes no conjunto de teste: \")\n",
    "print(classification_report(y_test, y_pred_test_nb))\n",
    "print(\"\\n\")\n",
    "print(\"Métricas de classificação para Logistic Regression no conjunto de teste: \")\n",
    "print(classification_report(y_test, y_pred_test_lr))"
   ]
  },
  {
   "cell_type": "code",
   "execution_count": 7,
   "id": "4161cd37",
   "metadata": {},
   "outputs": [
    {
     "data": {
      "image/png": "[encoded data removed]",
      "text/plain": [
       "<Figure size 400x400 with 1 Axes>"
      ]
     },
     "metadata": {},
     "output_type": "display_data"
    }
   ],
   "source": [
    "fpr, tpr, thresholds = roc_curve(y_test, nb.predict_proba(X_test)[:, 0], pos_label=0)\n",
    "roc_df = pd.DataFrame({'recall': tpr, 'specificity': 1 - fpr})\n",
    "\n",
    "ax = roc_df.plot(x='specificity', y='recall', figsize=(4, 4), legend=False)\n",
    "ax.set_ylim(0, 1)\n",
    "ax.set_xlim(1, 0)\n",
    "ax.set_xlabel('specificity')\n",
    "ax.set_ylabel('recall')\n",
    "ax.text(0.5, 0.5, f'AUC: {np.sum(roc_df.recall[:-1] * np.diff(1 - roc_df.specificity)):.3f}')\n",
    "ax.fill_between(roc_df.specificity, 0, roc_df.recall, alpha=0.3)\n",
    "\n",
    "\n",
    "plt.tight_layout()\n",
    "plt.show()"
   ]
  },
  {
   "cell_type": "code",
   "execution_count": 8,
   "id": "f59c4431",
   "metadata": {},
   "outputs": [
    {
     "data": {
      "image/png": "[encoded data removed]",
      "text/plain": [
       "<Figure size 400x400 with 1 Axes>"
      ]
     },
     "metadata": {},
     "output_type": "display_data"
    }
   ],
   "source": [
    "fpr, tpr, thresholds = roc_curve(y_test, lr.predict_proba(X_test)[:, 0], pos_label=0)\n",
    "roc_df = pd.DataFrame({'recall': tpr, 'specificity': 1 - fpr})\n",
    "\n",
    "ax = roc_df.plot(x='specificity', y='recall', figsize=(4, 4), legend=False)\n",
    "ax.set_ylim(0, 1)\n",
    "ax.set_xlim(1, 0)\n",
    "ax.set_xlabel('specificity')\n",
    "ax.set_ylabel('recall')\n",
    "ax.text(0.5, 0.5, f'AUC: {np.sum(roc_df.recall[:-1] * np.diff(1 - roc_df.specificity)):.3f}')\n",
    "ax.fill_between(roc_df.specificity, 0, roc_df.recall, alpha=0.3)\n",
    "\n",
    "\n",
    "plt.tight_layout()\n",
    "plt.show()"
   ]
  }
 ],
 "metadata": {
  "kernelspec": {
   "display_name": "Python 3 (ipykernel)",
   "language": "python",
   "name": "python3"
  },
  "language_info": {
   "codemirror_mode": {
    "name": "ipython",
    "version": 3
   },
   "file_extension": ".py",
   "mimetype": "text/x-python",
   "name": "python",
   "nbconvert_exporter": "python",
   "pygments_lexer": "ipython3",
   "version": "3.9.13"
  }
 },
 "nbformat": 4,
 "nbformat_minor": 5
}
