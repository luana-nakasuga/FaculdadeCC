{
 "cells": [
  {
   "cell_type": "code",
   "execution_count": 6,
   "metadata": {},
   "outputs": [],
   "source": [
    "import numpy as np\n",
    "import scipy.stats as stats\n",
    "from scipy.stats import wilcoxon"
   ]
  },
  {
   "attachments": {},
   "cell_type": "markdown",
   "metadata": {},
   "source": [
    "Teste A/B"
   ]
  },
  {
   "attachments": {},
   "cell_type": "markdown",
   "metadata": {},
   "source": [
    "Teste T"
   ]
  },
  {
   "attachments": {},
   "cell_type": "markdown",
   "metadata": {},
   "source": [
    "Teste T Pareado"
   ]
  },
  {
   "cell_type": "code",
   "execution_count": 3,
   "metadata": {},
   "outputs": [],
   "source": [
    "# dados emparelhados\n",
    "antes = [120, 128, 126, 124, 130]\n",
    "depois = [118, 126, 124, 122, 128]"
   ]
  },
  {
   "cell_type": "code",
   "execution_count": 4,
   "metadata": {},
   "outputs": [
    {
     "name": "stderr",
     "output_type": "stream",
     "text": [
      "C:\\Users\\luana\\AppData\\Local\\Temp\\ipykernel_10468\\1080670707.py:2: RuntimeWarning: Precision loss occurred in moment calculation due to catastrophic cancellation. This occurs when the data are nearly identical. Results may be unreliable.\n",
      "  t_stat, p_value = stats.ttest_rel(antes, depois)\n"
     ]
    }
   ],
   "source": [
    "# realiza o teste t pareado\n",
    "t_stat, p_value = stats.ttest_rel(antes, depois)"
   ]
  },
  {
   "cell_type": "code",
   "execution_count": 5,
   "metadata": {},
   "outputs": [
    {
     "name": "stdout",
     "output_type": "stream",
     "text": [
      "t = inf, p = 0.0000\n"
     ]
    }
   ],
   "source": [
    "# exibe o resultado\n",
    "print('t = %.2f, p = %.4f' % (t_stat, p_value))"
   ]
  },
  {
   "attachments": {},
   "cell_type": "markdown",
   "metadata": {},
   "source": [
    "Teste de Wilcoxon"
   ]
  },
  {
   "cell_type": "code",
   "execution_count": 7,
   "metadata": {},
   "outputs": [],
   "source": [
    "meu_algoritmo = np.array([15.4, 16.2, 14.8, 15.5, 14.9, 15.7, 16.1, 15.3, 15.6, 16.0])\n",
    "algoritmo_referencia = np.array([16.9, 17.5, 17.1, 18.0, 17.2, 16.7, 17.9, 17.8, 16.8, 17.3])"
   ]
  },
  {
   "cell_type": "code",
   "execution_count": 8,
   "metadata": {},
   "outputs": [
    {
     "name": "stdout",
     "output_type": "stream",
     "text": [
      "Estatística de teste: 0.000\n",
      "Valor de p: 0.002\n"
     ]
    }
   ],
   "source": [
    "stat, p = wilcoxon(meu_algoritmo, algoritmo_referencia)\n",
    "print('Estatística de teste: %.3f' % stat)\n",
    "print('Valor de p: %.3f' % p)"
   ]
  },
  {
   "cell_type": "code",
   "execution_count": 9,
   "metadata": {},
   "outputs": [
    {
     "name": "stdout",
     "output_type": "stream",
     "text": [
      "Rejeitamos a hipótese nula e concluímos que o algoritmo desenvolvido é mais rápido\n"
     ]
    }
   ],
   "source": [
    "# Interpretando o resultado\n",
    "alpha = 0.05\n",
    "if p > alpha:\n",
    "    print('Não rejeitamos a hipótese nula de que os tempos de execução são iguais')\n",
    "else:\n",
    "    print('Rejeitamos a hipótese nula e concluímos que o algoritmo desenvolvido é mais rápido')\n"
   ]
  }
 ],
 "metadata": {
  "kernelspec": {
   "display_name": "Python 3",
   "language": "python",
   "name": "python3"
  },
  "language_info": {
   "codemirror_mode": {
    "name": "ipython",
    "version": 3
   },
   "file_extension": ".py",
   "mimetype": "text/x-python",
   "name": "python",
   "nbconvert_exporter": "python",
   "pygments_lexer": "ipython3",
   "version": "3.9.6"
  },
  "orig_nbformat": 4
 },
 "nbformat": 4,
 "nbformat_minor": 2
}
